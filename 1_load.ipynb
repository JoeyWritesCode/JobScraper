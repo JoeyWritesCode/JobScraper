{
 "cells": [
  {
   "cell_type": "markdown",
   "metadata": {},
   "source": [
    "Scrape the Python ITJobsWatch page. Showcase:\n",
    "1. Data Ingestion\n",
    "2. Data Wrangling\n",
    "3. Data Analysis\n",
    "4. Data Visualisation"
   ]
  },
  {
   "cell_type": "code",
   "execution_count": 64,
   "metadata": {},
   "outputs": [],
   "source": [
    "from bs4 import BeautifulSoup\n",
    "import requests\n",
    "import pandas as pd\n",
    "\n",
    "x = requests.get('https://www.itjobswatch.co.uk/jobs/uk/python.do')\n",
    "soup = BeautifulSoup(x.text)"
   ]
  },
  {
   "cell_type": "markdown",
   "metadata": {},
   "source": [
    "Parse a single table into pandas"
   ]
  },
  {
   "cell_type": "code",
   "execution_count": 65,
   "metadata": {},
   "outputs": [],
   "source": [
    "def get_info_from_row(row):\n",
    "    return [tag.get_text() for tag in row.find_all('td') if len(tag.get_text()) < 50]"
   ]
  },
  {
   "cell_type": "code",
   "execution_count": 66,
   "metadata": {},
   "outputs": [],
   "source": [
    "def get_info_from_section(section):\n",
    "    return [get_info_from_row(row) for row in section.find_all('tr') if len(get_info_from_row(row)) != 0]"
   ]
  },
  {
   "cell_type": "code",
   "execution_count": 67,
   "metadata": {},
   "outputs": [],
   "source": [
    "def get_job_stats_df(soup):\n",
    "    info = get_info_from_section(soup.find_all('section')[0])\n",
    "\n",
    "    dict = {'2024' : [row[1] for row in info],\n",
    "            '2023' : [row[2] for row in info],\n",
    "            '2022' : [row[3] for row in info]}\n",
    "\n",
    "    return pd.DataFrame(dict, index=[row[0] for row in info])"
   ]
  },
  {
   "cell_type": "code",
   "execution_count": 68,
   "metadata": {},
   "outputs": [],
   "source": [
    "def get_skill_stats_df(soup):\n",
    "    info = get_info_from_section(soup.find_all('section')[5])\n",
    "    \n",
    "\n",
    "    dict = {'Percentage' : [row[1] for row in info],\n",
    "            'Skill' : [row[2] for row in info]}\n",
    "\n",
    "    return pd.DataFrame(dict, index=[row[0] for row in info])"
   ]
  }
 ],
 "metadata": {
  "kernelspec": {
   "display_name": "sklearn-env",
   "language": "python",
   "name": "python3"
  },
  "language_info": {
   "codemirror_mode": {
    "name": "ipython",
    "version": 3
   },
   "file_extension": ".py",
   "mimetype": "text/x-python",
   "name": "python",
   "nbconvert_exporter": "python",
   "pygments_lexer": "ipython3",
   "version": "3.8.8"
  }
 },
 "nbformat": 4,
 "nbformat_minor": 2
}
