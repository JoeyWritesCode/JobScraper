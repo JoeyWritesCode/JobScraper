{
 "cells": [
  {
   "cell_type": "markdown",
   "metadata": {},
   "source": [
    "Scrape the Python ITJobsWatch page. Showcase:\n",
    "1. Data Ingestion\n",
    "2. Data Wrangling\n",
    "3. Data Analysis\n",
    "4. Data Visualisation"
   ]
  },
  {
   "cell_type": "code",
   "execution_count": 142,
   "metadata": {},
   "outputs": [],
   "source": [
    "from bs4 import BeautifulSoup\n",
    "import requests\n",
    "import pandas as pd\n",
    "\n",
    "x = requests.get('https://www.itjobswatch.co.uk/jobs/uk/python.do')\n",
    "soup = BeautifulSoup(x.text)"
   ]
  },
  {
   "cell_type": "markdown",
   "metadata": {},
   "source": [
    "Parse a single table into pandas"
   ]
  },
  {
   "cell_type": "code",
   "execution_count": 143,
   "metadata": {},
   "outputs": [],
   "source": [
    "def get_info_from_row(row):\n",
    "    return [tag.get_text() for tag in row.find_all('tr') if len(tag.get_text()) < 50]"
   ]
  },
  {
   "cell_type": "code",
   "execution_count": 144,
   "metadata": {},
   "outputs": [],
   "source": [
    "def get_info_from_section(section):\n",
    "    return [get_info_from_row(row) for row in section.find_all('td') if len(get_info_from_row(row)) != 0][:14]"
   ]
  },
  {
   "cell_type": "code",
   "execution_count": 225,
   "metadata": {},
   "outputs": [],
   "source": [
    "def get_skill_stats_df(skill, soup):\n",
    "    related_skill_texts = [text.split(\"%\") for table in get_info_from_section(soup.find(attrs={'id':'related_skills'})) for text in table]\n",
    "\n",
    "    dict = {'Primary Skill' : skill,\n",
    "        'Secondary Skill' : [skill_text[1][1:].strip() for skill_text in related_skill_texts],\n",
    "        'Percentage' : [skill_text[0].split(\"(\")[1] for skill_text in related_skill_texts]}\n",
    "\n",
    "    return pd.DataFrame(dict)"
   ]
  },
  {
   "cell_type": "code",
   "execution_count": 146,
   "metadata": {},
   "outputs": [
    {
     "name": "stdout",
     "output_type": "stream",
     "text": [
      "   Percentage                    Skill\n",
      "0       38.57                      AWS\n",
      "1       33.40                      SQL\n",
      "2       32.02                    Agile\n",
      "3       30.93     Software Engineering\n",
      "4       28.88                    Azure\n",
      "5       28.06                  Finance\n",
      "6       27.35                     Java\n",
      "7       25.72                   DevOps\n",
      "8       22.29          Problem-Solving\n",
      "9       22.14                    CI/CD\n",
      "10      20.62                   Degree\n",
      "11      20.26            Social Skills\n",
      "12      20.04                    Linux\n",
      "13      19.24               JavaScript\n",
      "14      17.03               Kubernetes\n",
      "15      16.65         Machine Learning\n",
      "16      16.35                   Docker\n",
      "17      15.34                Analytics\n",
      "18      14.98                      GCP\n",
      "19      14.70         Security Cleared\n",
      "20      14.53                     Bash\n",
      "21      13.19                       C#\n",
      "22      13.16  Artificial Intelligence\n",
      "23      13.00         Computer Science\n",
      "24      12.97                Terraform\n",
      "25      12.62             Data Science\n",
      "26      12.43                    React\n",
      "27      11.98                      Git\n",
      "28      10.94  Inclusion and Diversity\n",
      "29      10.36        Analytical Skills\n"
     ]
    }
   ],
   "source": [
    "print(get_skill_stats_df(soup))"
   ]
  },
  {
   "cell_type": "code",
   "execution_count": 147,
   "metadata": {},
   "outputs": [],
   "source": [
    "def get_category_stats_df(soup, i, name):\n",
    "    info = get_info_from_section(soup.find_all('table')[6].find_all('table')[i])\n",
    "    \n",
    "    dict =  {\n",
    "            'Category' : name,\n",
    "            'Ranking' : [row[0] for row in info],\n",
    "            'Percentage' : [row[1] for row in info],\n",
    "            'Skill' : [row[2] for row in info]\n",
    "            }\n",
    "\n",
    "    return pd.DataFrame(dict)"
   ]
  },
  {
   "cell_type": "markdown",
   "metadata": {},
   "source": [
    "Scrape results page to get Skill pages in descending order\n",
    "- Build df of Skill features\n",
    "- Build association table"
   ]
  },
  {
   "cell_type": "code",
   "execution_count": 175,
   "metadata": {},
   "outputs": [],
   "source": [
    "page_num = 1\n",
    "search_page = 'https://www.itjobswatch.co.uk/default.aspx?ql=&ll=&id=0&p=6&e=200&page=' + str(page_num) + '&sortby=0&orderby=0'\n",
    "search_soup = BeautifulSoup(requests.get(search_page).text)"
   ]
  },
  {
   "cell_type": "code",
   "execution_count": 183,
   "metadata": {},
   "outputs": [
    {
     "name": "stdout",
     "output_type": "stream",
     "text": [
      "[('Social Skills', '/jobs/uk/social%20skills.do'), ('Agile', '/jobs/uk/agile.do'), ('Finance', '/jobs/uk/finance.do'), ('Azure', '/jobs/uk/azure.do'), ('Microsoft', '/jobs/uk/microsoft.do'), ('Developer', '/jobs/uk/developer.do'), ('Problem-Solving', '/jobs/uk/problem-solving.do'), ('Senior', '/jobs/uk/senior.do'), ('Degree', '/jobs/uk/degree.do'), ('SQL', '/jobs/uk/sql.do'), ('AWS', '/jobs/uk/aws.do'), ('Analyst', '/jobs/uk/analyst.do'), ('Software Engineering', '/jobs/uk/software%20engineering.do'), ('Python', '/jobs/uk/python.do'), ('Windows', '/jobs/uk/windows.do'), ('DevOps', '/jobs/uk/devops.do'), ('Security Cleared', '/jobs/uk/security%20cleared.do'), ('C#', '/jobs/uk/csharp.do'), ('JavaScript', '/jobs/uk/javascript.do'), ('Analytical Skills', '/jobs/uk/analytical%20skills.do'), ('Java', '/jobs/uk/java.do'), ('Microsoft 365', '/jobs/uk/microsoft%20365.do'), ('Lead', '/jobs/uk/lead.do'), ('.NET', '/jobs/uk/.net.do'), ('Mentoring', '/jobs/uk/mentoring.do'), ('Project Management', '/jobs/uk/project%20management.do'), ('Architect', '/jobs/uk/architect.do'), ('Active Directory', '/jobs/uk/active%20directory.do'), ('CI/CD', '/jobs/uk/cicd.do'), ('Software Engineer', '/jobs/uk/software%20engineer.do'), ('Inclusion and Diversity', '/jobs/uk/inclusion%20and%20diversity.do'), ('SQL Server', '/jobs/uk/sql%20server.do'), ('Analytics', '/jobs/uk/analytics.do'), ('Roadmaps', '/jobs/uk/roadmaps.do'), ('Customer Service', '/jobs/uk/customer%20service.do'), ('Linux', '/jobs/uk/linux.do'), ('Cybersecurity', '/jobs/uk/cyber%20security.do'), ('SC Cleared', '/jobs/uk/sc%20cleared.do'), ('Business Intelligence', '/jobs/uk/business%20intelligence.do'), ('Power Platform', '/jobs/uk/power%20platform.do'), ('Computer Science', '/jobs/uk/computer%20science.do'), ('ITIL', '/jobs/uk/itil.do'), ('React', '/jobs/uk/react.do'), ('Continuous Improvement', '/jobs/uk/continuous%20improvement.do'), ('Actionable Insight', '/jobs/uk/actionable%20insight.do'), ('Retail', '/jobs/uk/retail.do'), ('Full Stack Development', '/jobs/uk/full%20stack%20development.do'), ('Stakeholder Management', '/jobs/uk/stakeholder%20management.do'), ('Microservices', '/jobs/uk/microservices.do'), ('Kubernetes', '/jobs/uk/kubernetes.do')]\n"
     ]
    }
   ],
   "source": [
    "skill_pages = [(tag.a.get_text(), tag.a['href']) for tag in search_soup.find_all(attrs={'class':'c2'})]\n",
    "print(skill_pages)"
   ]
  },
  {
   "cell_type": "code",
   "execution_count": 232,
   "metadata": {},
   "outputs": [
    {
     "name": "stdout",
     "output_type": "stream",
     "text": [
      "      Primary Skill          Seconday Skill  Percentage\n",
      "0     Social Skills           Social Skills           0\n",
      "1     Social Skills                   Agile           0\n",
      "2     Social Skills                 Finance           0\n",
      "3     Social Skills                   Azure           0\n",
      "4     Social Skills               Microsoft           0\n",
      "...             ...                     ...         ...\n",
      "2495     Kubernetes                  Retail           0\n",
      "2496     Kubernetes  Full Stack Development           0\n",
      "2497     Kubernetes  Stakeholder Management           0\n",
      "2498     Kubernetes           Microservices           0\n",
      "2499     Kubernetes              Kubernetes           0\n",
      "\n",
      "[2500 rows x 3 columns]\n"
     ]
    }
   ],
   "source": [
    "skills = [skill for skill, _ in skill_pages]\n",
    "data = []\n",
    "for skill_1 in skills:\n",
    "    for skill_2 in skills:\n",
    "        data.append([skill_1, skill_2, 0])\n",
    "df_association = pd.DataFrame(columns=[\"Primary Skill\", \"Secondary Skill\", \"Percentage\"], data=data)\n",
    "print(df_association)"
   ]
  },
  {
   "cell_type": "markdown",
   "metadata": {},
   "source": [
    "Create df containing the following features for a skill:\n",
    "- Name of skill\n",
    "- Rank change\n",
    "- % of all permanent jobs\n",
    "- Category\n",
    "- % of category\n",
    "- Median annual salary\n",
    "- Median annual salary (excl London)\n"
   ]
  },
  {
   "cell_type": "code",
   "execution_count": 219,
   "metadata": {},
   "outputs": [],
   "source": [
    "def get_job_stats(skill, soup):\n",
    "    info = [tag.get_text() for tag in soup.find('table').find_all('td')]\n",
    "    return [skill, info[1], info[5], info[13], info[16].split(\"As % of the \")[1][:-9], info[17], info[33], info[49]]"
   ]
  },
  {
   "cell_type": "code",
   "execution_count": 217,
   "metadata": {},
   "outputs": [
    {
     "name": "stdout",
     "output_type": "stream",
     "text": [
      "                      Skill Rank Rank Change  % Jobs  \\\n",
      "0             Social Skills    1          +1  25.30%   \n",
      "1                     Agile    2          -1  21.21%   \n",
      "2                   Finance    3           0  20.67%   \n",
      "3                     Azure    4           0  19.68%   \n",
      "4                 Microsoft    5           0  18.09%   \n",
      "5                 Developer    6          +3  15.76%   \n",
      "6           Problem-Solving    7          +6  15.57%   \n",
      "7                    Senior    8          +2  14.58%   \n",
      "8                    Degree    9          -1  14.51%   \n",
      "9                       SQL   10          -3  13.99%   \n",
      "10                      AWS   11          -5  12.53%   \n",
      "11                  Analyst   12          +3  11.18%   \n",
      "12     Software Engineering   13          +3  11.06%   \n",
      "13                   Python   14          -3  10.72%   \n",
      "14                  Windows   15          +5  10.48%   \n",
      "15                   DevOps   16          -4   9.77%   \n",
      "16         Security Cleared   17         +21   9.40%   \n",
      "17                       C#   18          +1   9.22%   \n",
      "18               JavaScript   19          -5   8.94%   \n",
      "19        Analytical Skills   20          +1   8.54%   \n",
      "20                     Java   21          -4   8.36%   \n",
      "21            Microsoft 365   22         +21   8.14%   \n",
      "22                     Lead   23          +4   7.95%   \n",
      "23                     .NET   24          +2   7.92%   \n",
      "24                Mentoring   25          -7   7.57%   \n",
      "25       Project Management   26          +2   7.55%   \n",
      "26                Architect   27         +15   7.12%   \n",
      "27         Active Directory   28         +23   6.97%   \n",
      "28                    CI/CD   29          -7   6.66%   \n",
      "29        Software Engineer   30         +27   6.47%   \n",
      "30  Inclusion and Diversity   31          -1   6.41%   \n",
      "31               SQL Server   32         +15   6.32%   \n",
      "32                Analytics   33          -9   6.31%   \n",
      "33                 Roadmaps   34         -11   6.10%   \n",
      "34         Customer Service   35         +18   6.03%   \n",
      "35                    Linux   36          +3   5.95%   \n",
      "36            Cybersecurity   37         +13   5.76%   \n",
      "37               SC Cleared   38         +33   5.72%   \n",
      "38    Business Intelligence   39         +10   5.61%   \n",
      "39           Power Platform   40         +18   5.54%   \n",
      "40         Computer Science   41         +14   5.54%   \n",
      "41                     ITIL   42         +12   5.38%   \n",
      "42                    React   43          -7   5.36%   \n",
      "43   Continuous Improvement   44          +8   5.24%   \n",
      "44       Actionable Insight   45        +293   5.18%   \n",
      "45                   Retail   46          -5   5.11%   \n",
      "46   Full Stack Development   47         +21   5.04%   \n",
      "47   Stakeholder Management   48          -3   4.94%   \n",
      "48            Microservices   49          -5   4.81%   \n",
      "49               Kubernetes   50         -18   4.76%   \n",
      "\n",
      "                                             Category % Category  \\\n",
      "0                        As % of the General category     41.10%   \n",
      "1      As % of the Processes & Methodologies category     23.76%   \n",
      "2                        As % of the General category     33.57%   \n",
      "3                 As % of the Cloud Services category     50.21%   \n",
      "4                        As % of the Vendors category     46.70%   \n",
      "5                     As % of the Job Titles category     16.54%   \n",
      "6      As % of the Processes & Methodologies category     17.45%   \n",
      "7                     As % of the Job Titles category     15.31%   \n",
      "8                 As % of the Qualifications category     49.50%   \n",
      "9          As % of the Programming Languages category     36.66%   \n",
      "10                As % of the Cloud Services category     31.98%   \n",
      "11                    As % of the Job Titles category     11.74%   \n",
      "12     As % of the Processes & Methodologies category     12.39%   \n",
      "13         As % of the Programming Languages category     28.08%   \n",
      "14             As % of the Operating Systems category     68.20%   \n",
      "15     As % of the Processes & Methodologies category     10.95%   \n",
      "16                As % of the Qualifications category     32.07%   \n",
      "17         As % of the Programming Languages category     24.17%   \n",
      "18         As % of the Programming Languages category     23.43%   \n",
      "19                       As % of the General category     13.88%   \n",
      "20         As % of the Programming Languages category     21.91%   \n",
      "21                As % of the Cloud Services category     20.77%   \n",
      "22                    As % of the Job Titles category      8.35%   \n",
      "23  As % of the Libraries, Frameworks & Software S...     32.55%   \n",
      "24     As % of the Processes & Methodologies category      8.48%   \n",
      "25     As % of the Processes & Methodologies category      8.46%   \n",
      "26                    As % of the Job Titles category      7.48%   \n",
      "27               As % of the System Software category     47.31%   \n",
      "28     As % of the Processes & Methodologies category      7.47%   \n",
      "29                    As % of the Job Titles category      6.79%   \n",
      "30                       As % of the General category     10.40%   \n",
      "31  As % of the Database & Business Intelligence c...     31.32%   \n",
      "32     As % of the Processes & Methodologies category      7.07%   \n",
      "33     As % of the Processes & Methodologies category      6.84%   \n",
      "34     As % of the Processes & Methodologies category      6.76%   \n",
      "35             As % of the Operating Systems category     38.69%   \n",
      "36     As % of the Processes & Methodologies category      6.45%   \n",
      "37                As % of the Qualifications category     19.51%   \n",
      "38     As % of the Processes & Methodologies category      6.28%   \n",
      "39                As % of the Cloud Services category     14.14%   \n",
      "40     As % of the Processes & Methodologies category      6.20%   \n",
      "41     As % of the Processes & Methodologies category      6.03%   \n",
      "42  As % of the Libraries, Frameworks & Software S...     22.03%   \n",
      "43     As % of the Processes & Methodologies category      5.87%   \n",
      "44     As % of the Processes & Methodologies category      5.81%   \n",
      "45                       As % of the General category      8.30%   \n",
      "46     As % of the Processes & Methodologies category      5.64%   \n",
      "47     As % of the Processes & Methodologies category      5.53%   \n",
      "48     As % of the Processes & Methodologies category      5.38%   \n",
      "49            As % of the Systems Management category     39.12%   \n",
      "\n",
      "   Median Salary Median Salary (Excluding London)  \n",
      "0        £50,000                          £43,500  \n",
      "1        £65,000                          £59,526  \n",
      "2        £65,000                          £55,000  \n",
      "3        £60,000                          £53,426  \n",
      "4        £49,000                          £45,000  \n",
      "5        £60,000                          £52,500  \n",
      "6        £50,000                          £45,000  \n",
      "7        £65,000                          £60,000  \n",
      "8        £55,000                          £50,000  \n",
      "9        £57,500                          £50,000  \n",
      "10       £70,000                          £60,000  \n",
      "11       £45,000                          £40,000  \n",
      "12       £65,000                          £60,000  \n",
      "13       £70,000                          £57,500  \n",
      "14       £42,072                          £38,000  \n",
      "15       £67,500                          £60,000  \n",
      "16       £57,500                          £55,000  \n",
      "17       £60,000                          £55,000  \n",
      "18       £60,000                          £55,000  \n",
      "19       £53,500                          £47,500  \n",
      "20       £70,000                          £60,000  \n",
      "21       £40,000                          £37,500  \n",
      "22       £75,000                          £67,500  \n",
      "23       £60,000                          £55,000  \n",
      "24       £65,000                          £60,000  \n",
      "25       £55,000                          £50,000  \n",
      "26       £80,000                          £76,500  \n",
      "27       £40,000                          £36,000  \n",
      "28       £70,000                          £62,500  \n",
      "29       £62,500                          £57,500  \n",
      "30       £60,000                          £48,000  \n",
      "31       £55,000                          £52,500  \n",
      "32       £62,500                          £52,500  \n",
      "33       £73,000                          £65,000  \n",
      "34       £33,000                          £31,250  \n",
      "35       £60,000                          £54,000  \n",
      "36       £60,000                          £55,000  \n",
      "37       £57,500                          £55,000  \n",
      "38       £55,000                          £49,663  \n",
      "39       £55,000                          £47,500  \n",
      "40       £65,000                          £55,000  \n",
      "41       £50,000                          £45,000  \n",
      "42       £65,000                          £60,000  \n",
      "43       £59,556                          £52,500  \n",
      "44       £57,500                          £52,500  \n",
      "45       £47,500                          £41,000  \n",
      "46       £60,000                          £55,000  \n",
      "47       £65,000                          £55,000  \n",
      "48       £70,000                          £65,000  \n",
      "49       £75,000                          £69,447  \n"
     ]
    }
   ],
   "source": [
    "columns = [\"Skill\", \"Rank\", \"Rank Change\", \"% Jobs\", \"Category\", \"% Category\", \"Median Salary\", \"Median Salary (Excluding London)\"]\n",
    "data = []\n",
    "for skill, page in skill_pages:\n",
    "    soup = BeautifulSoup(requests.get(\"https://www.itjobswatch.co.uk/\" + page).text)\n",
    "    features = get_job_stats(skill, soup)\n",
    "    data.append(features)\n",
    "df = pd.DataFrame(columns=columns, data=data)\n",
    "print(df)\n",
    "    "
   ]
  },
  {
   "cell_type": "code",
   "execution_count": 227,
   "metadata": {},
   "outputs": [
    {
     "name": "stdout",
     "output_type": "stream",
     "text": [
      "   Primary Skill         Secondary Skill Percentage\n",
      "0     Kubernetes                  Docker      69.52\n",
      "1     Kubernetes                     AWS      51.74\n",
      "2     Kubernetes                  DevOps      51.05\n",
      "3     Kubernetes                   Azure      45.93\n",
      "4     Kubernetes                   Agile      44.71\n",
      "5     Kubernetes                   CI/CD      40.96\n",
      "6     Kubernetes                  Python      38.35\n",
      "7     Kubernetes                    Java      38.00\n",
      "8     Kubernetes               Terraform      35.44\n",
      "9     Kubernetes    Software Engineering      28.44\n",
      "10    Kubernetes                 Finance      25.92\n",
      "11    Kubernetes           Microservices      25.54\n",
      "12    Kubernetes                 Jenkins      23.53\n",
      "13    Kubernetes        Containerisation      23.07\n",
      "14    Kubernetes                   Linux      22.98\n",
      "15    Kubernetes  Infrastructure as Code      21.59\n",
      "16    Kubernetes                 Ansible      19.44\n",
      "17    Kubernetes                     GCP      19.06\n",
      "18    Kubernetes              JavaScript      17.87\n",
      "19    Kubernetes                     SQL      17.87\n",
      "20    Kubernetes                   React      16.79\n",
      "21    Kubernetes                      C#      16.62\n",
      "22    Kubernetes                     Git      16.47\n",
      "23    Kubernetes         Problem-Solving      16.27\n",
      "24    Kubernetes           Social Skills      15.95\n",
      "25    Kubernetes                    Bash      15.43\n",
      "26    Kubernetes                   Kafka      14.90\n",
      "27    Kubernetes              PowerShell      13.97\n",
      "28    Kubernetes        Security Cleared      13.71\n",
      "29    Kubernetes                    .NET      12.93\n"
     ]
    }
   ],
   "source": [
    "skill_association = get_skill_stats_df(\"Kubernetes\", soup)\n",
    "print(skill_association)"
   ]
  },
  {
   "cell_type": "code",
   "execution_count": 150,
   "metadata": {},
   "outputs": [],
   "source": [
    "df_genr = get_category_stats_df(soup, 7, \"General\")\n",
    "df_jobs = get_category_stats_df(soup, 8, \"Job\")\n",
    "df_libs = get_category_stats_df(soup, 9, \"Library\")\n",
    "df_lang = get_category_stats_df(soup, 13, \"Language\")\n",
    "\n",
    "df = pd.concat([df_genr, df_jobs, df_libs, df_lang])"
   ]
  }
 ],
 "metadata": {
  "kernelspec": {
   "display_name": "sklearn-env",
   "language": "python",
   "name": "python3"
  },
  "language_info": {
   "codemirror_mode": {
    "name": "ipython",
    "version": 3
   },
   "file_extension": ".py",
   "mimetype": "text/x-python",
   "name": "python",
   "nbconvert_exporter": "python",
   "pygments_lexer": "ipython3",
   "version": "3.8.8"
  }
 },
 "nbformat": 4,
 "nbformat_minor": 2
}
