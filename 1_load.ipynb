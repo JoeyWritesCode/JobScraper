{
 "cells": [
  {
   "cell_type": "markdown",
   "metadata": {},
   "source": [
    "Scrape the Python ITJobsWatch page. Showcase:\n",
    "1. Data Ingestion\n",
    "2. Data Wrangling\n",
    "3. Data Analysis\n",
    "4. Data Visualisation"
   ]
  },
  {
   "cell_type": "code",
   "execution_count": 12,
   "metadata": {},
   "outputs": [],
   "source": [
    "from bs4 import BeautifulSoup\n",
    "import requests\n",
    "import pandas as pd\n",
    "\n",
    "x = requests.get('https://www.itjobswatch.co.uk/jobs/uk/python.do')\n",
    "soup = BeautifulSoup(x.text)"
   ]
  },
  {
   "cell_type": "markdown",
   "metadata": {},
   "source": [
    "Parse a single table into pandas"
   ]
  },
  {
   "cell_type": "code",
   "execution_count": 13,
   "metadata": {},
   "outputs": [],
   "source": [
    "def get_info_from_row(row):\n",
    "    return [tag.get_text() for tag in row.find_all('td')]"
   ]
  },
  {
   "cell_type": "code",
   "execution_count": 14,
   "metadata": {},
   "outputs": [],
   "source": [
    "def get_info_from_section(section):\n",
    "    return [get_info_from_row(row) for row in section.find_all('tr') if len(get_info_from_row(row)) != 0]"
   ]
  },
  {
   "cell_type": "code",
   "execution_count": 16,
   "metadata": {},
   "outputs": [
    {
     "name": "stdout",
     "output_type": "stream",
     "text": [
      "                                                        2024      2023  \\\n",
      "Rank                                                      14        11   \n",
      "Rank change year-on-year                                  -3        +2   \n",
      "Permanent jobs citing Python                           7,641    16,827   \n",
      "As % of all permanent jobs advertised in the UK       10.74%    15.43%   \n",
      "As % of the Programming Languages category            28.17%    33.98%   \n",
      "Number of salaries quoted                              5,328     8,973   \n",
      "10th Percentile                                      £41,250   £42,500   \n",
      "25th Percentile                                      £51,000   £55,000   \n",
      "Median annual salary (50th Percentile)               £70,000   £70,000   \n",
      "Median % change year-on-year                               -         -   \n",
      "75th Percentile                                      £90,000   £92,500   \n",
      "90th Percentile                                     £116,546  £115,000   \n",
      "UK excluding London median annual salary             £57,500   £60,000   \n",
      "% change year-on-year                                 -4.17%    +4.35%   \n",
      "Permanent vacancies with a requirement for codi...    27,122    49,526   \n",
      "As % of all permanent jobs advertised in the UK       38.13%    45.43%   \n",
      "Number of salaries quoted                             21,372    32,524   \n",
      "10th Percentile                                      £36,500   £38,750   \n",
      "25th Percentile                                      £46,250   £48,750   \n",
      "Median annual salary (50th Percentile)               £60,000   £65,000   \n",
      "Median % change year-on-year                          -7.69%    +8.33%   \n",
      "75th Percentile                                      £80,000   £85,000   \n",
      "90th Percentile                                     £101,250  £105,000   \n",
      "UK excluding London median annual salary             £55,000   £55,000   \n",
      "% change year-on-year                                      -    +4.76%   \n",
      "\n",
      "                                                        2022  \n",
      "Rank                                                      13  \n",
      "Rank change year-on-year                                  -1  \n",
      "Permanent jobs citing Python                          19,324  \n",
      "As % of all permanent jobs advertised in the UK       14.84%  \n",
      "As % of the Programming Languages category            28.52%  \n",
      "Number of salaries quoted                             11,154  \n",
      "10th Percentile                                      £41,250  \n",
      "25th Percentile                                      £51,250  \n",
      "Median annual salary (50th Percentile)               £70,000  \n",
      "Median % change year-on-year                          +7.69%  \n",
      "75th Percentile                                      £90,000  \n",
      "90th Percentile                                     £112,500  \n",
      "UK excluding London median annual salary             £57,500  \n",
      "% change year-on-year                                 +4.55%  \n",
      "Permanent vacancies with a requirement for codi...    67,764  \n",
      "As % of all permanent jobs advertised in the UK       52.02%  \n",
      "Number of salaries quoted                             44,003  \n",
      "10th Percentile                                      £36,250  \n",
      "25th Percentile                                      £45,000  \n",
      "Median annual salary (50th Percentile)               £60,000  \n",
      "Median % change year-on-year                          +9.09%  \n",
      "75th Percentile                                      £80,000  \n",
      "90th Percentile                                     £100,000  \n",
      "UK excluding London median annual salary             £52,500  \n",
      "% change year-on-year                                 +5.00%  \n"
     ]
    }
   ],
   "source": [
    "def get_df_from_section(section):\n",
    "    info = get_info_from_section(section)\n",
    "\n",
    "    dict = {'2024' : [row[1] for row in info],\n",
    "            '2023' : [row[2] for row in info],\n",
    "            '2022' : [row[3] for row in info]}\n",
    "\n",
    "    return pd.DataFrame(dict, index=[row[0] for row in info])"
   ]
  }
 ],
 "metadata": {
  "kernelspec": {
   "display_name": "sklearn-env",
   "language": "python",
   "name": "python3"
  },
  "language_info": {
   "codemirror_mode": {
    "name": "ipython",
    "version": 3
   },
   "file_extension": ".py",
   "mimetype": "text/x-python",
   "name": "python",
   "nbconvert_exporter": "python",
   "pygments_lexer": "ipython3",
   "version": "3.8.8"
  }
 },
 "nbformat": 4,
 "nbformat_minor": 2
}
