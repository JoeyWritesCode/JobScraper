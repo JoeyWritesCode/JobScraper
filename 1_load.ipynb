{
 "cells": [
  {
   "cell_type": "markdown",
   "metadata": {},
   "source": [
    "Scrape the Python ITJobsWatch page. Showcase:\n",
    "1. Data Ingestion\n",
    "2. Data Wrangling\n",
    "3. Data Analysis\n",
    "4. Data Visualisation"
   ]
  },
  {
   "cell_type": "code",
   "execution_count": 141,
   "metadata": {},
   "outputs": [],
   "source": [
    "from bs4 import BeautifulSoup\n",
    "import requests\n",
    "import pandas as pd\n",
    "\n",
    "x = requests.get('https://www.itjobswatch.co.uk/jobs/uk/java.do')\n",
    "soup = BeautifulSoup(x.text)"
   ]
  },
  {
   "cell_type": "markdown",
   "metadata": {},
   "source": [
    "Parse a single table into pandas"
   ]
  },
  {
   "cell_type": "code",
   "execution_count": 142,
   "metadata": {},
   "outputs": [],
   "source": [
    "def get_info_from_row(row):\n",
    "    return [tag.get_text() for tag in row.find_all('td') if len(tag.get_text()) < 50]"
   ]
  },
  {
   "cell_type": "code",
   "execution_count": 143,
   "metadata": {},
   "outputs": [],
   "source": [
    "def get_info_from_section(section):\n",
    "    return [get_info_from_row(row) for row in section.find_all('tr') if len(get_info_from_row(row)) != 0]"
   ]
  },
  {
   "cell_type": "code",
   "execution_count": 144,
   "metadata": {},
   "outputs": [],
   "source": [
    "def get_job_stats_df(soup):\n",
    "    info = get_info_from_section(soup.find_all('section')[0])\n",
    "\n",
    "    dict = {'2024' : [row[1] for row in info],\n",
    "            '2023' : [row[2] for row in info],\n",
    "            '2022' : [row[3] for row in info]}\n",
    "\n",
    "    return pd.DataFrame(dict, index=[row[0] for row in info])"
   ]
  },
  {
   "cell_type": "code",
   "execution_count": 145,
   "metadata": {},
   "outputs": [],
   "source": [
    "def get_skill_stats_df(soup):\n",
    "    info = get_info_from_section(soup.find_all('section')[5])\n",
    "    \n",
    "    dict = {'Percentage' : [row[1] for row in info],\n",
    "            'Skill' : [row[2] for row in info]}\n",
    "\n",
    "    return pd.DataFrame(dict, index=[row[0] for row in info])"
   ]
  },
  {
   "cell_type": "code",
   "execution_count": 146,
   "metadata": {},
   "outputs": [],
   "source": [
    "def get_category_stats_df(soup, i, name):\n",
    "    info = get_info_from_section(soup.find_all('table')[6].find_all('table')[i])\n",
    "    \n",
    "    dict =  {\n",
    "            'Category' : name,\n",
    "            'Ranking' : [row[0] for row in info],\n",
    "            'Percentage' : [row[1] for row in info],\n",
    "            'Skill' : [row[2] for row in info]\n",
    "            }\n",
    "\n",
    "    return pd.DataFrame(dict)"
   ]
  },
  {
   "cell_type": "code",
   "execution_count": 147,
   "metadata": {},
   "outputs": [
    {
     "name": "stdout",
     "output_type": "stream",
     "text": [
      "    Category Ranking      Percentage                    Skill\n",
      "0    General       1  2,144 (28.06%)                  Finance\n",
      "1    General       2  1,549 (20.27%)            Social Skills\n",
      "2    General       3    823 (10.77%)  Inclusion and Diversity\n",
      "3    General       4    789 (10.33%)        Analytical Skills\n",
      "4    General       5     687 (8.99%)                  Banking\n",
      "..       ...     ...             ...                      ...\n",
      "15  Language      16     165 (2.16%)                   MATLAB\n",
      "16  Language      17     138 (1.81%)                       VB\n",
      "17  Language      18     137 (1.79%)                     Rust\n",
      "18  Language      19     136 (1.78%)             Shell Script\n",
      "19  Language      20     110 (1.44%)                    T-SQL\n",
      "\n",
      "[80 rows x 4 columns]\n"
     ]
    }
   ],
   "source": [
    "df_genr = get_category_stats_df(soup, 7, \"General\")\n",
    "df_jobs = get_category_stats_df(soup, 8, \"Job\")\n",
    "df_libs = get_category_stats_df(soup, 9, \"Library\")\n",
    "df_lang = get_category_stats_df(soup, 13, \"Language\")\n",
    "\n",
    "df = pd.concat([df_genr, df_jobs, df_libs, df_lang])\n",
    "print(df)"
   ]
  }
 ],
 "metadata": {
  "kernelspec": {
   "display_name": "sklearn-env",
   "language": "python",
   "name": "python3"
  },
  "language_info": {
   "codemirror_mode": {
    "name": "ipython",
    "version": 3
   },
   "file_extension": ".py",
   "mimetype": "text/x-python",
   "name": "python",
   "nbconvert_exporter": "python",
   "pygments_lexer": "ipython3",
   "version": "3.8.8"
  }
 },
 "nbformat": 4,
 "nbformat_minor": 2
}
