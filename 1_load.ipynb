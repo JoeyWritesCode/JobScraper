{
 "cells": [
  {
   "cell_type": "markdown",
   "metadata": {},
   "source": [
    "Scrape the Python ITJobsWatch page. Showcase:\n",
    "1. Data Ingestion\n",
    "2. Data Wrangling\n",
    "3. Data Analysis\n",
    "4. Data Visualisation"
   ]
  },
  {
   "cell_type": "code",
   "execution_count": 331,
   "metadata": {},
   "outputs": [],
   "source": [
    "from bs4 import BeautifulSoup\n",
    "import requests\n",
    "import pandas as pd\n",
    "\n",
    "x = requests.get('https://www.itjobswatch.co.uk/jobs/uk/python.do')\n",
    "soup = BeautifulSoup(x.text)"
   ]
  },
  {
   "cell_type": "markdown",
   "metadata": {},
   "source": [
    "Parse a single table into pandas"
   ]
  },
  {
   "cell_type": "code",
   "execution_count": 332,
   "metadata": {},
   "outputs": [],
   "source": [
    "def get_info_from_row(row):\n",
    "    return [tag.get_text() for tag in row.find_all('tr') if len(tag.get_text()) < 50]"
   ]
  },
  {
   "cell_type": "code",
   "execution_count": 333,
   "metadata": {},
   "outputs": [],
   "source": [
    "def get_info_from_section(section):\n",
    "    return [get_info_from_row(row) for row in section.find_all('td') if len(get_info_from_row(row)) != 0][:14]"
   ]
  },
  {
   "cell_type": "code",
   "execution_count": 334,
   "metadata": {},
   "outputs": [],
   "source": [
    "def get_skill_stats_df(skill, soup):\n",
    "    section = soup.find(attrs={'id':'related_skills'})\n",
    "    if section == None:\n",
    "        section = soup.find(attrs={'id':'skill-set'})\n",
    "    related_skill_texts = [text.split(\"%\") for table in get_info_from_section(section) for text in table]\n",
    "\n",
    "    dict = {'Primary Skill' : skill,\n",
    "        'Secondary Skill' : [skill_text[1][1:].strip() for skill_text in related_skill_texts],\n",
    "        'Percentage' : [skill_text[0].split(\"(\")[1] for skill_text in related_skill_texts]}\n",
    "\n",
    "    return pd.DataFrame(dict)"
   ]
  },
  {
   "cell_type": "markdown",
   "metadata": {},
   "source": [
    "Scrape results page to get Skill pages in descending order\n",
    "- Build df of Skill features\n",
    "- Build association table"
   ]
  },
  {
   "cell_type": "code",
   "execution_count": 344,
   "metadata": {},
   "outputs": [],
   "source": [
    "def get_skill_pages(page_num):\n",
    "    search_page = 'https://www.itjobswatch.co.uk/default.aspx?ql=&ll=&id=0&p=6&e=200&page=' + str(page_num) + '&sortby=0&orderby=0'\n",
    "    search_soup = BeautifulSoup(requests.get(search_page).text)\n",
    "    return [(tag.a.get_text(), tag.a['href']) for tag in search_soup.find_all(attrs={'class':'c2'})]"
   ]
  },
  {
   "cell_type": "markdown",
   "metadata": {},
   "source": [
    "Initialisation"
   ]
  },
  {
   "cell_type": "code",
   "execution_count": 348,
   "metadata": {},
   "outputs": [],
   "source": [
    "skill_pages = [get_skill_pages(page_num) for page_num in range(1, 4)]\n",
    "skills = [skill for page in skill_pages for skill, _ in page]\n",
    "data = []\n",
    "for skill_1 in skills:\n",
    "    for skill_2 in skills:\n",
    "        data.append([skill_1, skill_2, 0])\n",
    "df_association = pd.DataFrame(columns=[\"Primary Skill\", \"Secondary Skill\", \"Percentage\"], data=data)"
   ]
  },
  {
   "cell_type": "markdown",
   "metadata": {},
   "source": [
    "Create df containing the following features for a skill:\n",
    "- Name of skill\n",
    "- Rank change\n",
    "- % of all permanent jobs\n",
    "- Category\n",
    "- % of category\n",
    "- Median annual salary\n",
    "- Median annual salary (excl London)\n"
   ]
  },
  {
   "cell_type": "code",
   "execution_count": 338,
   "metadata": {},
   "outputs": [],
   "source": [
    "def get_job_stats(skill, soup):\n",
    "    info = [tag.get_text() for tag in soup.find('table').find_all('td')]\n",
    "    return [skill, info[1], info[5], info[13], info[16].split(\"As % of the \")[1][:-9], info[17], info[33], info[49]]"
   ]
  },
  {
   "cell_type": "code",
   "execution_count": 351,
   "metadata": {},
   "outputs": [
    {
     "name": "stdout",
     "output_type": "stream",
     "text": [
      "['Social Skills', '1', '+1', '25.30%', 'General', '41.10%', '£50,000', '£43,500']\n",
      "['Agile', '2', '-1', '21.21%', 'Processes & Methodologies', '23.76%', '£65,000', '£59,526']\n",
      "['Finance', '3', '0', '20.67%', 'General', '33.57%', '£65,000', '£55,000']\n",
      "['Azure', '4', '0', '19.68%', 'Cloud Services', '50.21%', '£60,000', '£53,426']\n",
      "['Microsoft', '5', '0', '18.09%', 'Vendors', '46.70%', '£49,000', '£45,000']\n",
      "['Developer', '6', '+3', '15.76%', 'Job Titles', '16.54%', '£60,000', '£52,500']\n",
      "['Problem-Solving', '7', '+6', '15.57%', 'Processes & Methodologies', '17.45%', '£50,000', '£45,000']\n",
      "['Senior', '8', '+2', '14.58%', 'Job Titles', '15.31%', '£65,000', '£60,000']\n",
      "['Degree', '9', '-1', '14.51%', 'Qualifications', '49.50%', '£55,000', '£50,000']\n",
      "['SQL', '10', '-3', '13.99%', 'Programming Languages', '36.66%', '£57,500', '£50,000']\n",
      "['AWS', '11', '-5', '12.53%', 'Cloud Services', '31.98%', '£70,000', '£60,000']\n",
      "['Analyst', '12', '+3', '11.18%', 'Job Titles', '11.74%', '£45,000', '£40,000']\n",
      "['Software Engineering', '13', '+3', '11.06%', 'Processes & Methodologies', '12.39%', '£65,000', '£60,000']\n",
      "['Python', '14', '-3', '10.72%', 'Programming Languages', '28.08%', '£70,000', '£57,500']\n",
      "['Windows', '15', '+5', '10.48%', 'Operating Systems', '68.20%', '£42,072', '£38,000']\n",
      "['DevOps', '16', '-4', '9.77%', 'Processes & Methodologies', '10.95%', '£67,500', '£60,000']\n",
      "['Security Cleared', '17', '+21', '9.40%', 'Qualifications', '32.07%', '£57,500', '£55,000']\n",
      "['C#', '18', '+1', '9.22%', 'Programming Languages', '24.17%', '£60,000', '£55,000']\n",
      "['JavaScript', '19', '-5', '8.94%', 'Programming Languages', '23.43%', '£60,000', '£55,000']\n",
      "['Analytical Skills', '20', '+1', '8.54%', 'General', '13.88%', '£53,500', '£47,500']\n",
      "['Java', '21', '-4', '8.36%', 'Programming Languages', '21.91%', '£70,000', '£60,000']\n",
      "['Microsoft 365', '22', '+21', '8.14%', 'Cloud Services', '20.77%', '£40,000', '£37,500']\n",
      "['Lead', '23', '+4', '7.95%', 'Job Titles', '8.35%', '£75,000', '£67,500']\n",
      "['.NET', '24', '+2', '7.92%', 'Libraries, Frameworks & Software Standards', '32.55%', '£60,000', '£55,000']\n",
      "['Mentoring', '25', '-7', '7.57%', 'Processes & Methodologies', '8.48%', '£65,000', '£60,000']\n",
      "['Project Management', '26', '+2', '7.55%', 'Processes & Methodologies', '8.46%', '£55,000', '£50,000']\n",
      "['Architect', '27', '+15', '7.12%', 'Job Titles', '7.48%', '£80,000', '£76,500']\n",
      "['Active Directory', '28', '+23', '6.97%', 'System Software', '47.31%', '£40,000', '£36,000']\n",
      "['CI/CD', '29', '-7', '6.66%', 'Processes & Methodologies', '7.47%', '£70,000', '£62,500']\n",
      "['Software Engineer', '30', '+27', '6.47%', 'Job Titles', '6.79%', '£62,500', '£57,500']\n",
      "['Inclusion and Diversity', '31', '-1', '6.41%', 'General', '10.40%', '£60,000', '£48,000']\n",
      "['SQL Server', '32', '+15', '6.32%', 'Database & Business Intelligence', '31.32%', '£55,000', '£52,500']\n",
      "['Analytics', '33', '-9', '6.31%', 'Processes & Methodologies', '7.07%', '£62,500', '£52,500']\n",
      "['Roadmaps', '34', '-11', '6.10%', 'Processes & Methodologies', '6.84%', '£73,000', '£65,000']\n",
      "['Customer Service', '35', '+18', '6.03%', 'Processes & Methodologies', '6.76%', '£33,000', '£31,250']\n",
      "['Linux', '36', '+3', '5.95%', 'Operating Systems', '38.69%', '£60,000', '£54,000']\n",
      "['Cybersecurity', '37', '+13', '5.76%', 'Processes & Methodologies', '6.45%', '£60,000', '£55,000']\n",
      "['SC Cleared', '38', '+33', '5.72%', 'Qualifications', '19.51%', '£57,500', '£55,000']\n",
      "['Business Intelligence', '39', '+10', '5.61%', 'Processes & Methodologies', '6.28%', '£55,000', '£49,663']\n",
      "['Power Platform', '40', '+18', '5.54%', 'Cloud Services', '14.14%', '£55,000', '£47,500']\n",
      "['Computer Science', '41', '+14', '5.54%', 'Processes & Methodologies', '6.20%', '£65,000', '£55,000']\n",
      "['ITIL', '42', '+12', '5.38%', 'Processes & Methodologies', '6.03%', '£50,000', '£45,000']\n",
      "['React', '43', '-7', '5.36%', 'Libraries, Frameworks & Software Standards', '22.03%', '£65,000', '£60,000']\n",
      "['Continuous Improvement', '44', '+8', '5.24%', 'Processes & Methodologies', '5.87%', '£59,556', '£52,500']\n",
      "['Actionable Insight', '45', '+293', '5.18%', 'Processes & Methodologies', '5.81%', '£57,500', '£52,500']\n",
      "['Retail', '46', '-5', '5.11%', 'General', '8.30%', '£47,500', '£41,000']\n",
      "['Full Stack Development', '47', '+21', '5.04%', 'Processes & Methodologies', '5.64%', '£60,000', '£55,000']\n",
      "['Stakeholder Management', '48', '-3', '4.94%', 'Processes & Methodologies', '5.53%', '£65,000', '£55,000']\n",
      "['Microservices', '49', '-5', '4.81%', 'Processes & Methodologies', '5.38%', '£70,000', '£65,000']\n",
      "['Kubernetes', '50', '-18', '4.76%', 'Systems Management', '39.12%', '£75,000', '£69,447']\n",
      "['Decision-Making', '51', '+10', '4.73%', 'Processes & Methodologies', '5.31%', '£52,500', '£45,000']\n",
      "['Docker', '52', '-17', '4.69%', 'System Software', '31.84%', '£70,000', '£65,000']\n",
      "['Banking', '53', '-16', '4.69%', 'General', '7.61%', '£75,000', '+8.58%']\n",
      "['HTML', '54', '-20', '4.68%', 'Libraries, Frameworks & Software Standards', '19.24%', '£55,000', '£50,000']\n",
      "['Marketing', '55', '-7', '4.67%', 'General', '7.59%', '£47,500', '£42,500']\n",
      "['Law', '56', '+14', '4.52%', 'General', '7.34%', '£55,000', '£50,000']\n",
      "['Project Delivery', '57', '+12', '4.44%', 'Processes & Methodologies', '4.97%', '£60,000', '£54,000']\n",
      "['Scrum', '58', '-29', '4.36%', 'Processes & Methodologies', '4.88%', '£62,500', '£57,500']\n",
      "['Firewall', '59', '+34', '4.24%', 'Communications & Networking', '30.36%', '£50,000', '£45,000']\n",
      "['Coaching', '60', '+5', '4.23%', 'Processes & Methodologies', '4.73%', '£64,080', '£60,000']\n",
      "['VMware', '61', '+36', '4.19%', 'Vendors', '10.83%', '£49,000', '£45,000']\n",
      "['Power BI', '62', '+18', '4.19%', 'Database & Business Intelligence', '20.77%', '£52,500', '£47,500']\n",
      "['Microsoft Office', '63', '+19', '4.19%', 'Applications', '49.93%', '£33,250', '£31,000']\n",
      "['CSS', '64', '-24', '4.18%', 'Libraries, Frameworks & Software Standards', '17.19%', '£55,000', '£51,716']\n",
      "['Public Sector', '64', '+22', '4.18%', 'General', '6.79%', '£55,000', '£50,000']\n",
      "['SaaS', '65', '-2', '4.16%', 'Cloud Services', '10.63%', '£65,000', '£57,500']\n",
      "['Artificial Intelligence', '66', '+53', '4.12%', 'Processes & Methodologies', '4.62%', '£70,000', '£62,500']\n",
      "['SDLC', '67', '-21', '4.11%', 'Processes & Methodologies', '4.61%', '£62,500', '£57,500']\n",
      "['QA', '68', '-43', '4.10%', 'Quality Assurance & Compliance', '29.18%', '£57,500', '£50,000']\n",
      "['Windows Server', '69', '+30', '4.08%', 'Operating Systems', '26.57%', '£42,500', '£39,174']\n",
      "['Consultant', '70', '+26', '3.96%', 'Job Titles', '4.15%', '£61,725', '£50,000']\n",
      "['Git', '71', '-15', '3.89%', 'Development Applications', '34.39%', '£60,000', '£55,000']\n",
      "['Project Manager', '72', '+23', '3.83%', 'Job Titles', '4.02%', '£55,000', '£54,000']\n",
      "['Manufacturing', '73', '+71', '3.80%', 'General', '6.16%', '£50,000', '£45,000']\n",
      "['Migration', '74', '+14', '3.74%', 'Processes & Methodologies', '4.19%', '£61,500', '£50,000']\n",
      "['GCP', '75', '-44', '3.72%', 'Cloud Services', '9.49%', '£75,000', '£67,500']\n",
      "['Oracle', '76', '+8', '3.67%', 'Vendors', '9.48%', '£60,500', '£55,000']\n",
      "['PowerShell', '77', '+12', '3.60%', 'Programming Languages', '9.42%', '£59,000', '£52,500']\n",
      "['Terraform', '78', '-16', '3.59%', 'Systems Management', '29.54%', '£75,000', '£65,000']\n",
      "['AngularJS', '79', '-5', '3.59%', 'Libraries, Frameworks & Software Standards', '14.77%', '£60,000', '£55,000']\n",
      "['Collaborative Working', '80', '+18', '3.51%', 'Processes & Methodologies', '3.93%', '£47,500', '£39,634']\n",
      "['Senior Developer', '81', '0', '3.48%', 'Job Titles', '3.65%', '£65,000', '£60,000']\n",
      "['TypeScript', '82', '-4', '3.46%', 'Programming Languages', '9.06%', '£70,000', '£60,000']\n",
      "['User Experience', '83', '-23', '3.38%', 'Processes & Methodologies', '3.79%', '£57,500', '£50,000']\n",
      "['Machine Learning', '84', '+8', '3.36%', 'Processes & Methodologies', '3.77%', '£70,576', '£65,000']\n",
      "['Infrastructure Engineering', '85', '+28', '3.36%', 'Processes & Methodologies', '3.76%', '£50,000', '£47,500']\n",
      "['Microsoft Excel', '86', '+1', '3.34%', 'Applications', '39.84%', '£40,000', '£37,500']\n",
      "['Self-Motivation', '87', '+17', '3.30%', 'Miscellaneous', '9.34%', '£42,500', '£38,500']\n",
      "['Test Automation', '88', '-55', '3.29%', 'Processes & Methodologies', '3.69%', '£60,000', '£55,000']\n",
      "['Legal', '89', '-25', '3.22%', 'General', '5.23%', '£55,000', '£46,500']\n",
      "['IT Support', '90', '+76', '3.17%', 'Job Titles', '3.33%', '£30,000', '£28,500']\n",
      "['Cisco', '91', '+29', '3.16%', 'Vendors', '8.14%', '£50,000', '£48,669']\n",
      "['CRM', '92', '+17', '3.12%', 'Processes & Methodologies', '3.50%', '£52,500', '£46,500']\n",
      "['Support Engineer', '93', '+67', '3.03%', 'Job Titles', '3.19%', '£33,500', '£32,500']\n",
      "['Management Information System', '94', '-4', '3.03%', 'Miscellaneous', '8.59%', '£53,500', '£47,657']\n",
      "['Service Delivery', '95', '+16', '2.96%', 'Processes & Methodologies', '3.32%', '£50,000', '£45,000']\n",
      "['Data Modelling', '96', '+10', '2.94%', 'Processes & Methodologies', '3.30%', '£65,000', '£55,000']\n",
      "['.NET Developer', '97', '+66', '2.94%', 'Job Titles', '3.09%', '£57,500', '£55,000']\n",
      "['Azure DevOps', '98', '+2', '2.91%', 'Cloud Services', '7.43%', '£62,500', '£59,526']\n",
      "['Solutions Architect', '99', '+41', '2.88%', 'Job Titles', '3.02%', '£82,500', '£74,000']\n",
      "['JIRA', '100', '-28', '2.87%', 'Development Applications', '25.38%', '£60,000', '£55,000']\n",
      "['Computer Science Degree', '101', '+97', '2.84%', 'Qualifications', '9.68%', '£65,000', '£55,000']\n",
      "['Telecoms', '102', '+60', '2.79%', 'General', '4.53%', '£41,000', '£35,000']\n",
      "['Data Science', '103', '-36', '2.78%', 'Processes & Methodologies', '3.12%', '£67,500', '£57,500']\n",
      "['WAN', '104', '+77', '2.78%', 'Communications & Networking', '19.89%', '£47,500', '£45,000']\n",
      "['Visualisation', '105', '+18', '2.78%', 'Processes & Methodologies', '3.11%', '£55,000', '£50,000']\n",
      "['VMware Infrastructure', '106', '+47', '2.74%', 'System Software', '18.60%', '£47,500', '£44,400']\n",
      "['Change Management', '107', '+1', '2.71%', 'Processes & Methodologies', '3.04%', '£55,000', '£52,500']\n",
      "['TDD', '108', '-32', '2.70%', 'Processes & Methodologies', '3.03%', '£62,500', '£57,500']\n",
      "['Information Security', '109', '-24', '2.70%', 'Processes & Methodologies', '3.03%', '£62,500', '£56,500']\n",
      "['SharePoint', '110', '+36', '2.68%', 'Application Platforms', '27.98%', '£42,500', '£40,000']\n",
      "['ETL', '111', '+3', '2.65%', 'Processes & Methodologies', '2.97%', '£60,000', '£52,500']\n",
      "['DNS', '112', '+57', '2.64%', 'Communications & Networking', '18.88%', '£43,500', '£41,367']\n",
      "['Customer Experience', '113', '-36', '2.63%', 'Processes & Methodologies', '2.95%', '£38,000', '£35,000']\n",
      "['Risk Management', '114', '-12', '2.63%', 'Processes & Methodologies', '2.94%', '£64,500', '£55,000']\n",
      "['Infrastructure as Code', '115', '-14', '2.61%', 'Processes & Methodologies', '2.93%', '£72,500', '£65,000']\n",
      "['ASP.NET', '116', '+85', '2.58%', 'Libraries, Frameworks & Software Standards', '10.62%', '£57,500', '£55,000']\n",
      "['Mathematics', '117', '-38', '2.58%', 'Processes & Methodologies', '2.89%', '£52,500', '£42,500']\n",
      "['Google', '118', '-11', '2.57%', 'Vendors', '6.63%', '£60,000', '£55,000']\n",
      "['Infrastructure Engineer', '119', '+111', '2.55%', 'Job Titles', '2.68%', '£50,000', '£47,500']\n",
      "['ERP', '120', '+6', '2.53%', 'Processes & Methodologies', '2.83%', '£55,000', '£50,000']\n",
      "['SAP', '121', '-3', '2.51%', 'Vendors', '6.47%', '£65,000', '£52,500']\n",
      "['Data Warehouse', '122', '-7', '2.50%', 'Database & Business Intelligence', '12.41%', '£60,000', '£50,000']\n",
      "['.NET Core', '123', '+8', '2.50%', 'Libraries, Frameworks & Software Standards', '10.26%', '£55,000', '£55,000']\n",
      "['Containerisation', '124', '+10', '2.48%', 'Processes & Methodologies', '2.78%', '£70,000', '£62,500']\n",
      "['MVC', '125', '+42', '2.47%', 'Processes & Methodologies', '2.77%', '£55,000', '£52,500']\n",
      "['Asset Management', '126', '+50', '2.45%', 'Processes & Methodologies', '2.75%', '£72,500', '£43,500']\n",
      "['Business Development', '127', '+79', '2.44%', 'Processes & Methodologies', '2.73%', '£39,085', '£38,000']\n",
      "['Node.js', '128', '-45', '2.43%', 'Libraries, Frameworks & Software Standards', '10.01%', '£67,500', '£60,000']\n",
      "['Product Ownership', '129', '-70', '2.43%', 'Miscellaneous', '6.88%', '£65,000', '£59,526']\n",
      "['Jenkins', '130', '-55', '2.42%', 'Development Applications', '21.44%', '£70,576', '£65,000']\n",
      "['Data Analysis', '131', '-15', '2.42%', 'Processes & Methodologies', '2.71%', '£53,500', '£50,000']\n",
      "['Organisational Skills', '132', '-11', '2.41%', 'General', '3.91%', '£37,500', '£35,000']\n",
      "['Service Management', '133', '-16', '2.37%', 'Processes & Methodologies', '2.65%', '£52,500', '£47,500']\n",
      "['REST', '134', '-40', '2.32%', 'Libraries, Frameworks & Software Standards', '9.56%', '£67,500', '£55,173']\n",
      "['Windows 10', '135', '+37', '2.30%', 'Operating Systems', '14.94%', '£33,500', '£30,000']\n",
      "['LAN', '136', '+80', '2.29%', 'Communications & Networking', '16.38%', '£45,000', '£42,500']\n",
      "['Line Management', '137', '-32', '2.28%', 'Processes & Methodologies', '2.56%', '£60,000', '£52,686']\n",
      "['Presentation Skills', '138', '-10', '2.28%', 'General', '3.70%', '£55,000', '£50,000']\n",
      "['Fintech', '139', '-48', '2.23%', 'Processes & Methodologies', '2.50%', '£80,000', '£60,000']\n",
      "['Presales', '140', '+43', '2.21%', 'Processes & Methodologies', '2.48%', '£65,000', '£55,000']\n",
      "['DV Cleared', '141', '+220', '2.18%', 'Qualifications', '7.45%', '£55,000', '£55,000']\n",
      "['IT Engineer', '141', '+130', '2.18%', 'Job Titles', '2.29%', '£34,000', '£32,500']\n",
      "['MySQL', '142', '+17', '2.17%', 'Database & Business Intelligence', '10.74%', '£55,000', '£50,000']\n",
      "['Data Engineer', '143', '+14', '2.15%', 'Job Titles', '2.26%', '£65,000', '£56,250']\n",
      "['IT Manager', '144', '+67', '2.15%', 'Job Titles', '2.25%', '£55,000', '£52,500']\n",
      "['Validation', '145', '+2', '2.10%', 'Processes & Methodologies', '2.36%', '£55,000', '£52,500']\n",
      "['Serverless', '146', '-10', '2.10%', 'Cloud Services', '5.35%', '£70,000', '£65,000']\n",
      "['Games', '147', '-74', '2.09%', 'General', '3.40%', '£45,000', '£36,000']\n",
      "['Software Developer', '148', '+34', '2.08%', 'Job Titles', '2.19%', '£55,000', '£50,000']\n"
     ]
    }
   ],
   "source": [
    "columns = [\"Skill\", \"Rank\", \"Rank Change\", \"% Jobs\", \"Category\", \"% Category\", \"Median Salary\", \"Median Salary (Excluding London)\"]\n",
    "data = []\n",
    "for search_results_page in skill_pages:\n",
    "    for skill, page in search_results_page:\n",
    "        soup = BeautifulSoup(requests.get(\"https://www.itjobswatch.co.uk/\" + page).text)\n",
    "        features = get_job_stats(skill, soup)\n",
    "        print(features)\n",
    "        data.append(features)\n",
    "        # skill association\n",
    "        df_skills = get_skill_stats_df(skill, soup)\n",
    "        df_association = df_association.merge(df_skills, on=[\"Primary Skill\", \"Secondary Skill\"], how=\"left\")\n",
    "        df_association['Percentage'] = df_association['Percentage_y'].fillna(df_association['Percentage_x'])\n",
    "        df_association = df_association.drop(['Percentage_x', 'Percentage_y'], axis=1)\n",
    "\n",
    "df = pd.DataFrame(columns=columns, data=data)\n"
   ]
  },
  {
   "cell_type": "code",
   "execution_count": 352,
   "metadata": {},
   "outputs": [
    {
     "data": {
      "text/html": [
       "<div>\n",
       "<style scoped>\n",
       "    .dataframe tbody tr th:only-of-type {\n",
       "        vertical-align: middle;\n",
       "    }\n",
       "\n",
       "    .dataframe tbody tr th {\n",
       "        vertical-align: top;\n",
       "    }\n",
       "\n",
       "    .dataframe thead th {\n",
       "        text-align: right;\n",
       "    }\n",
       "</style>\n",
       "<table border=\"1\" class=\"dataframe\">\n",
       "  <thead>\n",
       "    <tr style=\"text-align: right;\">\n",
       "      <th></th>\n",
       "      <th>Primary Skill</th>\n",
       "      <th>Secondary Skill</th>\n",
       "      <th>Percentage</th>\n",
       "    </tr>\n",
       "  </thead>\n",
       "  <tbody>\n",
       "    <tr>\n",
       "      <th>count</th>\n",
       "      <td>22500</td>\n",
       "      <td>22500</td>\n",
       "      <td>22500</td>\n",
       "    </tr>\n",
       "    <tr>\n",
       "      <th>unique</th>\n",
       "      <td>150</td>\n",
       "      <td>150</td>\n",
       "      <td>2265</td>\n",
       "    </tr>\n",
       "    <tr>\n",
       "      <th>top</th>\n",
       "      <td>DNS</td>\n",
       "      <td>DNS</td>\n",
       "      <td>0</td>\n",
       "    </tr>\n",
       "    <tr>\n",
       "      <th>freq</th>\n",
       "      <td>150</td>\n",
       "      <td>150</td>\n",
       "      <td>18570</td>\n",
       "    </tr>\n",
       "  </tbody>\n",
       "</table>\n",
       "</div>"
      ],
      "text/plain": [
       "       Primary Skill Secondary Skill  Percentage\n",
       "count          22500           22500       22500\n",
       "unique           150             150        2265\n",
       "top              DNS             DNS           0\n",
       "freq             150             150       18570"
      ]
     },
     "execution_count": 352,
     "metadata": {},
     "output_type": "execute_result"
    }
   ],
   "source": [
    "df_association.describe()"
   ]
  }
 ],
 "metadata": {
  "kernelspec": {
   "display_name": "sklearn-env",
   "language": "python",
   "name": "python3"
  },
  "language_info": {
   "codemirror_mode": {
    "name": "ipython",
    "version": 3
   },
   "file_extension": ".py",
   "mimetype": "text/x-python",
   "name": "python",
   "nbconvert_exporter": "python",
   "pygments_lexer": "ipython3",
   "version": "3.8.8"
  }
 },
 "nbformat": 4,
 "nbformat_minor": 2
}
