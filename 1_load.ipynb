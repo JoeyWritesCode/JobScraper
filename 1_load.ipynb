{
 "cells": [
  {
   "cell_type": "markdown",
   "metadata": {},
   "source": [
    "Scrape the Python ITJobsWatch page. Showcase:\n",
    "1. Data Ingestion\n",
    "2. Data Wrangling\n",
    "3. Data Analysis\n",
    "4. Data Visualisation"
   ]
  },
  {
   "cell_type": "code",
   "execution_count": 104,
   "metadata": {},
   "outputs": [],
   "source": [
    "from bs4 import BeautifulSoup\n",
    "import requests\n",
    "import pandas as pd\n",
    "\n",
    "x = requests.get('https://www.itjobswatch.co.uk/jobs/uk/python.do')\n",
    "soup = BeautifulSoup(x.text)"
   ]
  },
  {
   "cell_type": "markdown",
   "metadata": {},
   "source": [
    "Parse a single table into pandas"
   ]
  },
  {
   "cell_type": "code",
   "execution_count": 105,
   "metadata": {},
   "outputs": [],
   "source": [
    "def get_info_from_row(row):\n",
    "    return [tag.get_text() for tag in row.find_all('td') if len(tag.get_text()) < 50]"
   ]
  },
  {
   "cell_type": "code",
   "execution_count": 106,
   "metadata": {},
   "outputs": [],
   "source": [
    "def get_info_from_section(section):\n",
    "    return [get_info_from_row(row) for row in section.find_all('tr') if len(get_info_from_row(row)) != 0]"
   ]
  },
  {
   "cell_type": "code",
   "execution_count": 107,
   "metadata": {},
   "outputs": [],
   "source": [
    "def get_job_stats_df(soup):\n",
    "    info = get_info_from_section(soup.find_all('section')[0])\n",
    "\n",
    "    dict = {'2024' : [row[1] for row in info],\n",
    "            '2023' : [row[2] for row in info],\n",
    "            '2022' : [row[3] for row in info]}\n",
    "\n",
    "    return pd.DataFrame(dict, index=[row[0] for row in info])"
   ]
  },
  {
   "cell_type": "code",
   "execution_count": 108,
   "metadata": {},
   "outputs": [],
   "source": [
    "def get_skill_stats_df(soup):\n",
    "    info = get_info_from_section(soup.find_all('section')[5])\n",
    "    \n",
    "    dict = {'Percentage' : [row[1] for row in info],\n",
    "            'Skill' : [row[2] for row in info]}\n",
    "\n",
    "    return pd.DataFrame(dict, index=[row[0] for row in info])"
   ]
  },
  {
   "cell_type": "code",
   "execution_count": 115,
   "metadata": {},
   "outputs": [],
   "source": [
    "def get_category_stats_df(soup, i):\n",
    "    info = get_info_from_section(soup.find_all('table')[6].find_all('table')[i])\n",
    "    \n",
    "    dict = {'Percentage' : [row[1] for row in info],\n",
    "            'Skill' : [row[2] for row in info]}\n",
    "\n",
    "    arrays = []\n",
    "    return pd.DataFrame(dict, index=[row[0] for row in info])"
   ]
  },
  {
   "cell_type": "code",
   "execution_count": 125,
   "metadata": {},
   "outputs": [
    {
     "name": "stdout",
     "output_type": "stream",
     "text": [
      "        Percentage         Skill\n",
      "1   2,563 (33.54%)           SQL\n",
      "2   2,122 (27.77%)          Java\n",
      "3   1,454 (19.03%)    JavaScript\n",
      "4   1,132 (14.81%)          Bash\n",
      "5   1,017 (13.31%)            C#\n",
      "6     795 (10.40%)    PowerShell\n",
      "7      636 (8.32%)           C++\n",
      "8      501 (6.56%)            Go\n",
      "9      481 (6.29%)             C\n",
      "10     477 (6.24%)             R\n",
      "11     471 (6.16%)    TypeScript\n",
      "12     414 (5.42%)          Ruby\n",
      "13     369 (4.83%)          Perl\n",
      "14     210 (2.75%)         Scala\n",
      "15     184 (2.41%)           PHP\n",
      "16     165 (2.16%)        MATLAB\n",
      "17     138 (1.81%)            VB\n",
      "18     137 (1.79%)          Rust\n",
      "19     136 (1.78%)  Shell Script\n",
      "20     110 (1.44%)         T-SQL\n"
     ]
    }
   ],
   "source": [
    "df_genr = get_category_stats_df(soup, 7)\n",
    "df_jobs = get_category_stats_df(soup, 8)\n",
    "df_libs = get_category_stats_df(soup, 9)\n",
    "df_lang = get_category_stats_df(soup, 13)"
   ]
  }
 ],
 "metadata": {
  "kernelspec": {
   "display_name": "sklearn-env",
   "language": "python",
   "name": "python3"
  },
  "language_info": {
   "codemirror_mode": {
    "name": "ipython",
    "version": 3
   },
   "file_extension": ".py",
   "mimetype": "text/x-python",
   "name": "python",
   "nbconvert_exporter": "python",
   "pygments_lexer": "ipython3",
   "version": "3.8.8"
  }
 },
 "nbformat": 4,
 "nbformat_minor": 2
}
