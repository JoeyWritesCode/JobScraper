{
 "cells": [
  {
   "cell_type": "markdown",
   "metadata": {},
   "source": [
    "Scrape the Python ITJobsWatch page. Showcase:\n",
    "1. Data Ingestion\n",
    "2. Data Wrangling\n",
    "3. Data Analysis\n",
    "4. Data Visualisation"
   ]
  },
  {
   "cell_type": "code",
   "execution_count": 331,
   "metadata": {},
   "outputs": [],
   "source": [
    "from bs4 import BeautifulSoup\n",
    "import requests\n",
    "import pandas as pd\n",
    "\n",
    "x = requests.get('https://www.itjobswatch.co.uk/jobs/uk/python.do')\n",
    "soup = BeautifulSoup(x.text)"
   ]
  },
  {
   "cell_type": "markdown",
   "metadata": {},
   "source": [
    "Parse a single table into pandas"
   ]
  },
  {
   "cell_type": "code",
   "execution_count": 332,
   "metadata": {},
   "outputs": [],
   "source": [
    "def get_info_from_row(row):\n",
    "    return [tag.get_text() for tag in row.find_all('tr') if len(tag.get_text()) < 50]"
   ]
  },
  {
   "cell_type": "code",
   "execution_count": 333,
   "metadata": {},
   "outputs": [],
   "source": [
    "def get_info_from_section(section):\n",
    "    return [get_info_from_row(row) for row in section.find_all('td') if len(get_info_from_row(row)) != 0][:14]"
   ]
  },
  {
   "cell_type": "code",
   "execution_count": 334,
   "metadata": {},
   "outputs": [],
   "source": [
    "def get_skill_stats_df(skill, soup):\n",
    "    section = soup.find(attrs={'id':'related_skills'})\n",
    "    if section == None:\n",
    "        section = soup.find(attrs={'id':'skill-set'})\n",
    "    related_skill_texts = [text.split(\"%\") for table in get_info_from_section(section) for text in table]\n",
    "\n",
    "    dict = {'Primary Skill' : skill,\n",
    "        'Secondary Skill' : [skill_text[1][1:].strip() for skill_text in related_skill_texts],\n",
    "        'Percentage' : [skill_text[0].split(\"(\")[1] for skill_text in related_skill_texts]}\n",
    "\n",
    "    return pd.DataFrame(dict)"
   ]
  },
  {
   "cell_type": "markdown",
   "metadata": {},
   "source": [
    "Scrape results page to get Skill pages in descending order\n",
    "- Build df of Skill features\n",
    "- Build association table"
   ]
  },
  {
   "cell_type": "code",
   "execution_count": 344,
   "metadata": {},
   "outputs": [],
   "source": [
    "def get_skill_pages(page_num):\n",
    "    search_page = 'https://www.itjobswatch.co.uk/default.aspx?ql=&ll=&id=0&p=6&e=200&page=' + str(page_num) + '&sortby=0&orderby=0'\n",
    "    search_soup = BeautifulSoup(requests.get(search_page).text)\n",
    "    return [(tag.a.get_text(), tag.a['href']) for tag in search_soup.find_all(attrs={'class':'c2'})]"
   ]
  },
  {
   "cell_type": "markdown",
   "metadata": {},
   "source": [
    "Initialisation"
   ]
  },
  {
   "cell_type": "code",
   "execution_count": 348,
   "metadata": {},
   "outputs": [],
   "source": [
    "skill_pages = [get_skill_pages(page_num) for page_num in range(1, 4)]\n",
    "skills = [skill for page in skill_pages for skill, _ in page]\n",
    "data = []\n",
    "for skill_1 in skills:\n",
    "    for skill_2 in skills:\n",
    "        data.append([skill_1, skill_2, 0])\n",
    "df_association = pd.DataFrame(columns=[\"Primary Skill\", \"Secondary Skill\", \"Percentage\"], data=data)"
   ]
  },
  {
   "cell_type": "markdown",
   "metadata": {},
   "source": [
    "Create df containing the following features for a skill:\n",
    "- Name of skill\n",
    "- Rank change\n",
    "- % of all permanent jobs\n",
    "- Category\n",
    "- % of category\n",
    "- Median annual salary\n",
    "- Median annual salary (excl London)\n"
   ]
  },
  {
   "cell_type": "code",
   "execution_count": 338,
   "metadata": {},
   "outputs": [],
   "source": [
    "def get_job_stats(skill, soup):\n",
    "    info = [tag.get_text() for tag in soup.find('table').find_all('td')]\n",
    "    return [skill, info[1], info[5], info[13], info[16].split(\"As % of the \")[1][:-9], info[17], info[33], info[49]]"
   ]
  },
  {
   "cell_type": "code",
   "execution_count": 339,
   "metadata": {},
   "outputs": [
    {
     "name": "stdout",
     "output_type": "stream",
     "text": [
      "['Social Skills', '1', '+1', '25.30%', 'General', '41.10%', '£50,000', '£43,500']\n",
      "['Agile', '2', '-1', '21.21%', 'Processes & Methodologies', '23.76%', '£65,000', '£59,526']\n",
      "['Finance', '3', '0', '20.67%', 'General', '33.57%', '£65,000', '£55,000']\n",
      "['Azure', '4', '0', '19.68%', 'Cloud Services', '50.21%', '£60,000', '£53,426']\n",
      "['Microsoft', '5', '0', '18.09%', 'Vendors', '46.70%', '£49,000', '£45,000']\n",
      "['Developer', '6', '+3', '15.76%', 'Job Titles', '16.54%', '£60,000', '£52,500']\n",
      "['Problem-Solving', '7', '+6', '15.57%', 'Processes & Methodologies', '17.45%', '£50,000', '£45,000']\n",
      "['Senior', '8', '+2', '14.58%', 'Job Titles', '15.31%', '£65,000', '£60,000']\n",
      "['Degree', '9', '-1', '14.51%', 'Qualifications', '49.50%', '£55,000', '£50,000']\n",
      "['SQL', '10', '-3', '13.99%', 'Programming Languages', '36.66%', '£57,500', '£50,000']\n",
      "['AWS', '11', '-5', '12.53%', 'Cloud Services', '31.98%', '£70,000', '£60,000']\n",
      "['Analyst', '12', '+3', '11.18%', 'Job Titles', '11.74%', '£45,000', '£40,000']\n",
      "['Software Engineering', '13', '+3', '11.06%', 'Processes & Methodologies', '12.39%', '£65,000', '£60,000']\n",
      "['Python', '14', '-3', '10.72%', 'Programming Languages', '28.08%', '£70,000', '£57,500']\n",
      "['Windows', '15', '+5', '10.48%', 'Operating Systems', '68.20%', '£42,072', '£38,000']\n",
      "['DevOps', '16', '-4', '9.77%', 'Processes & Methodologies', '10.95%', '£67,500', '£60,000']\n",
      "['Security Cleared', '17', '+21', '9.40%', 'Qualifications', '32.07%', '£57,500', '£55,000']\n",
      "['C#', '18', '+1', '9.22%', 'Programming Languages', '24.17%', '£60,000', '£55,000']\n",
      "['JavaScript', '19', '-5', '8.94%', 'Programming Languages', '23.43%', '£60,000', '£55,000']\n",
      "['Analytical Skills', '20', '+1', '8.54%', 'General', '13.88%', '£53,500', '£47,500']\n",
      "['Java', '21', '-4', '8.36%', 'Programming Languages', '21.91%', '£70,000', '£60,000']\n",
      "['Microsoft 365', '22', '+21', '8.14%', 'Cloud Services', '20.77%', '£40,000', '£37,500']\n",
      "['Lead', '23', '+4', '7.95%', 'Job Titles', '8.35%', '£75,000', '£67,500']\n",
      "['.NET', '24', '+2', '7.92%', 'Libraries, Frameworks & Software Standards', '32.55%', '£60,000', '£55,000']\n",
      "['Mentoring', '25', '-7', '7.57%', 'Processes & Methodologies', '8.48%', '£65,000', '£60,000']\n",
      "['Project Management', '26', '+2', '7.55%', 'Processes & Methodologies', '8.46%', '£55,000', '£50,000']\n",
      "['Architect', '27', '+15', '7.12%', 'Job Titles', '7.48%', '£80,000', '£76,500']\n",
      "['Active Directory', '28', '+23', '6.97%', 'System Software', '47.31%', '£40,000', '£36,000']\n",
      "['CI/CD', '29', '-7', '6.66%', 'Processes & Methodologies', '7.47%', '£70,000', '£62,500']\n",
      "['Software Engineer', '30', '+27', '6.47%', 'Job Titles', '6.79%', '£62,500', '£57,500']\n",
      "['Inclusion and Diversity', '31', '-1', '6.41%', 'General', '10.40%', '£60,000', '£48,000']\n",
      "['SQL Server', '32', '+15', '6.32%', 'Database & Business Intelligence', '31.32%', '£55,000', '£52,500']\n",
      "['Analytics', '33', '-9', '6.31%', 'Processes & Methodologies', '7.07%', '£62,500', '£52,500']\n",
      "['Roadmaps', '34', '-11', '6.10%', 'Processes & Methodologies', '6.84%', '£73,000', '£65,000']\n",
      "['Customer Service', '35', '+18', '6.03%', 'Processes & Methodologies', '6.76%', '£33,000', '£31,250']\n",
      "['Linux', '36', '+3', '5.95%', 'Operating Systems', '38.69%', '£60,000', '£54,000']\n",
      "['Cybersecurity', '37', '+13', '5.76%', 'Processes & Methodologies', '6.45%', '£60,000', '£55,000']\n",
      "['SC Cleared', '38', '+33', '5.72%', 'Qualifications', '19.51%', '£57,500', '£55,000']\n",
      "['Business Intelligence', '39', '+10', '5.61%', 'Processes & Methodologies', '6.28%', '£55,000', '£49,663']\n",
      "['Power Platform', '40', '+18', '5.54%', 'Cloud Services', '14.14%', '£55,000', '£47,500']\n",
      "['Computer Science', '41', '+14', '5.54%', 'Processes & Methodologies', '6.20%', '£65,000', '£55,000']\n",
      "['ITIL', '42', '+12', '5.38%', 'Processes & Methodologies', '6.03%', '£50,000', '£45,000']\n",
      "['React', '43', '-7', '5.36%', 'Libraries, Frameworks & Software Standards', '22.03%', '£65,000', '£60,000']\n",
      "['Continuous Improvement', '44', '+8', '5.24%', 'Processes & Methodologies', '5.87%', '£59,556', '£52,500']\n",
      "['Actionable Insight', '45', '+293', '5.18%', 'Processes & Methodologies', '5.81%', '£57,500', '£52,500']\n",
      "['Retail', '46', '-5', '5.11%', 'General', '8.30%', '£47,500', '£41,000']\n",
      "['Full Stack Development', '47', '+21', '5.04%', 'Processes & Methodologies', '5.64%', '£60,000', '£55,000']\n",
      "['Stakeholder Management', '48', '-3', '4.94%', 'Processes & Methodologies', '5.53%', '£65,000', '£55,000']\n",
      "['Microservices', '49', '-5', '4.81%', 'Processes & Methodologies', '5.38%', '£70,000', '£65,000']\n",
      "['Kubernetes', '50', '-18', '4.76%', 'Systems Management', '39.12%', '£75,000', '£69,447']\n"
     ]
    }
   ],
   "source": [
    "columns = [\"Skill\", \"Rank\", \"Rank Change\", \"% Jobs\", \"Category\", \"% Category\", \"Median Salary\", \"Median Salary (Excluding London)\"]\n",
    "data = []\n",
    "for page_num in range(1, 4):\n",
    "    for skill, page in get_skill_pages(page_num):\n",
    "        soup = BeautifulSoup(requests.get(\"https://www.itjobswatch.co.uk/\" + page).text)\n",
    "        features = get_job_stats(skill, soup)\n",
    "        print(features)\n",
    "        data.append(features)\n",
    "        # skill association\n",
    "        df_skills = get_skill_stats_df(skill, soup)\n",
    "        df_association = df_association.merge(df_skills, on=[\"Primary Skill\", \"Secondary Skill\"], how=\"left\")\n",
    "        df_association['Percentage'] = df_association['Percentage_y'].fillna(df_association['Percentage_x'])\n",
    "        df_association = df_association.drop(['Percentage_x', 'Percentage_y'], axis=1)\n",
    "\n",
    "df = pd.DataFrame(columns=columns, data=data)\n"
   ]
  },
  {
   "cell_type": "code",
   "execution_count": 342,
   "metadata": {},
   "outputs": [
    {
     "data": {
      "text/html": [
       "<div>\n",
       "<style scoped>\n",
       "    .dataframe tbody tr th:only-of-type {\n",
       "        vertical-align: middle;\n",
       "    }\n",
       "\n",
       "    .dataframe tbody tr th {\n",
       "        vertical-align: top;\n",
       "    }\n",
       "\n",
       "    .dataframe thead th {\n",
       "        text-align: right;\n",
       "    }\n",
       "</style>\n",
       "<table border=\"1\" class=\"dataframe\">\n",
       "  <thead>\n",
       "    <tr style=\"text-align: right;\">\n",
       "      <th></th>\n",
       "      <th>Primary Skill</th>\n",
       "      <th>Secondary Skill</th>\n",
       "      <th>Percentage</th>\n",
       "    </tr>\n",
       "  </thead>\n",
       "  <tbody>\n",
       "    <tr>\n",
       "      <th>count</th>\n",
       "      <td>2500</td>\n",
       "      <td>2500</td>\n",
       "      <td>2500</td>\n",
       "    </tr>\n",
       "    <tr>\n",
       "      <th>unique</th>\n",
       "      <td>50</td>\n",
       "      <td>50</td>\n",
       "      <td>861</td>\n",
       "    </tr>\n",
       "    <tr>\n",
       "      <th>top</th>\n",
       "      <td>JavaScript</td>\n",
       "      <td>JavaScript</td>\n",
       "      <td>0</td>\n",
       "    </tr>\n",
       "    <tr>\n",
       "      <th>freq</th>\n",
       "      <td>50</td>\n",
       "      <td>50</td>\n",
       "      <td>1481</td>\n",
       "    </tr>\n",
       "  </tbody>\n",
       "</table>\n",
       "</div>"
      ],
      "text/plain": [
       "       Primary Skill Secondary Skill  Percentage\n",
       "count           2500            2500        2500\n",
       "unique            50              50         861\n",
       "top       JavaScript      JavaScript           0\n",
       "freq              50              50        1481"
      ]
     },
     "execution_count": 342,
     "metadata": {},
     "output_type": "execute_result"
    }
   ],
   "source": [
    "df_association.describe()"
   ]
  }
 ],
 "metadata": {
  "kernelspec": {
   "display_name": "sklearn-env",
   "language": "python",
   "name": "python3"
  },
  "language_info": {
   "codemirror_mode": {
    "name": "ipython",
    "version": 3
   },
   "file_extension": ".py",
   "mimetype": "text/x-python",
   "name": "python",
   "nbconvert_exporter": "python",
   "pygments_lexer": "ipython3",
   "version": "3.8.8"
  }
 },
 "nbformat": 4,
 "nbformat_minor": 2
}
