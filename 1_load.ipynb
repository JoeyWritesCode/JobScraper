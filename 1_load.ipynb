{
 "cells": [
  {
   "cell_type": "markdown",
   "metadata": {},
   "source": [
    "Scrape the Python ITJobsWatch page. Showcase:\n",
    "1. Data Ingestion\n",
    "2. Data Wrangling\n",
    "3. Data Analysis\n",
    "4. Data Visualisation"
   ]
  },
  {
   "cell_type": "code",
   "execution_count": 142,
   "metadata": {},
   "outputs": [],
   "source": [
    "from bs4 import BeautifulSoup\n",
    "import requests\n",
    "import pandas as pd\n",
    "\n",
    "x = requests.get('https://www.itjobswatch.co.uk/jobs/uk/python.do')\n",
    "soup = BeautifulSoup(x.text)"
   ]
  },
  {
   "cell_type": "markdown",
   "metadata": {},
   "source": [
    "Parse a single table into pandas"
   ]
  },
  {
   "cell_type": "code",
   "execution_count": 143,
   "metadata": {},
   "outputs": [],
   "source": [
    "def get_info_from_row(row):\n",
    "    return [tag.get_text() for tag in row.find_all('tr') if len(tag.get_text()) < 50]"
   ]
  },
  {
   "cell_type": "code",
   "execution_count": 144,
   "metadata": {},
   "outputs": [],
   "source": [
    "def get_info_from_section(section):\n",
    "    return [get_info_from_row(row) for row in section.find_all('td') if len(get_info_from_row(row)) != 0][:14]"
   ]
  },
  {
   "cell_type": "code",
   "execution_count": 225,
   "metadata": {},
   "outputs": [],
   "source": [
    "def get_skill_stats_df(skill, soup):\n",
    "    section = soup.find(attrs={'id':'related_skills'})\n",
    "    if section == None:\n",
    "        section = soup.find(attrs={'id':'skill-set'})\n",
    "    related_skill_texts = [text.split(\"%\") for table in get_info_from_section(section) for text in table]\n",
    "\n",
    "    dict = {'Primary Skill' : skill,\n",
    "        'Secondary Skill' : [skill_text[1][1:].strip() for skill_text in related_skill_texts],\n",
    "        'Percentage' : [skill_text[0].split(\"(\")[1] for skill_text in related_skill_texts]}\n",
    "\n",
    "    return pd.DataFrame(dict)"
   ]
  },
  {
   "cell_type": "code",
   "execution_count": 146,
   "metadata": {},
   "outputs": [
    {
     "name": "stdout",
     "output_type": "stream",
     "text": [
      "   Percentage                    Skill\n",
      "0       38.57                      AWS\n",
      "1       33.40                      SQL\n",
      "2       32.02                    Agile\n",
      "3       30.93     Software Engineering\n",
      "4       28.88                    Azure\n",
      "5       28.06                  Finance\n",
      "6       27.35                     Java\n",
      "7       25.72                   DevOps\n",
      "8       22.29          Problem-Solving\n",
      "9       22.14                    CI/CD\n",
      "10      20.62                   Degree\n",
      "11      20.26            Social Skills\n",
      "12      20.04                    Linux\n",
      "13      19.24               JavaScript\n",
      "14      17.03               Kubernetes\n",
      "15      16.65         Machine Learning\n",
      "16      16.35                   Docker\n",
      "17      15.34                Analytics\n",
      "18      14.98                      GCP\n",
      "19      14.70         Security Cleared\n",
      "20      14.53                     Bash\n",
      "21      13.19                       C#\n",
      "22      13.16  Artificial Intelligence\n",
      "23      13.00         Computer Science\n",
      "24      12.97                Terraform\n",
      "25      12.62             Data Science\n",
      "26      12.43                    React\n",
      "27      11.98                      Git\n",
      "28      10.94  Inclusion and Diversity\n",
      "29      10.36        Analytical Skills\n"
     ]
    }
   ],
   "source": [
    "print(get_skill_stats_df(soup))"
   ]
  },
  {
   "cell_type": "code",
   "execution_count": 147,
   "metadata": {},
   "outputs": [],
   "source": [
    "def get_category_stats_df(soup, i, name):\n",
    "    info = get_info_from_section(soup.find_all('table')[6].find_all('table')[i])\n",
    "    \n",
    "    dict =  {\n",
    "            'Category' : name,\n",
    "            'Ranking' : [row[0] for row in info],\n",
    "            'Percentage' : [row[1] for row in info],\n",
    "            'Skill' : [row[2] for row in info]\n",
    "            }\n",
    "\n",
    "    return pd.DataFrame(dict)"
   ]
  },
  {
   "cell_type": "markdown",
   "metadata": {},
   "source": [
    "Scrape results page to get Skill pages in descending order\n",
    "- Build df of Skill features\n",
    "- Build association table"
   ]
  },
  {
   "cell_type": "code",
   "execution_count": 175,
   "metadata": {},
   "outputs": [],
   "source": [
    "page_num = 1\n",
    "search_page = 'https://www.itjobswatch.co.uk/default.aspx?ql=&ll=&id=0&p=6&e=200&page=' + str(page_num) + '&sortby=0&orderby=0'\n",
    "search_soup = BeautifulSoup(requests.get(search_page).text)"
   ]
  },
  {
   "cell_type": "code",
   "execution_count": 183,
   "metadata": {},
   "outputs": [
    {
     "name": "stdout",
     "output_type": "stream",
     "text": [
      "[('Social Skills', '/jobs/uk/social%20skills.do'), ('Agile', '/jobs/uk/agile.do'), ('Finance', '/jobs/uk/finance.do'), ('Azure', '/jobs/uk/azure.do'), ('Microsoft', '/jobs/uk/microsoft.do'), ('Developer', '/jobs/uk/developer.do'), ('Problem-Solving', '/jobs/uk/problem-solving.do'), ('Senior', '/jobs/uk/senior.do'), ('Degree', '/jobs/uk/degree.do'), ('SQL', '/jobs/uk/sql.do'), ('AWS', '/jobs/uk/aws.do'), ('Analyst', '/jobs/uk/analyst.do'), ('Software Engineering', '/jobs/uk/software%20engineering.do'), ('Python', '/jobs/uk/python.do'), ('Windows', '/jobs/uk/windows.do'), ('DevOps', '/jobs/uk/devops.do'), ('Security Cleared', '/jobs/uk/security%20cleared.do'), ('C#', '/jobs/uk/csharp.do'), ('JavaScript', '/jobs/uk/javascript.do'), ('Analytical Skills', '/jobs/uk/analytical%20skills.do'), ('Java', '/jobs/uk/java.do'), ('Microsoft 365', '/jobs/uk/microsoft%20365.do'), ('Lead', '/jobs/uk/lead.do'), ('.NET', '/jobs/uk/.net.do'), ('Mentoring', '/jobs/uk/mentoring.do'), ('Project Management', '/jobs/uk/project%20management.do'), ('Architect', '/jobs/uk/architect.do'), ('Active Directory', '/jobs/uk/active%20directory.do'), ('CI/CD', '/jobs/uk/cicd.do'), ('Software Engineer', '/jobs/uk/software%20engineer.do'), ('Inclusion and Diversity', '/jobs/uk/inclusion%20and%20diversity.do'), ('SQL Server', '/jobs/uk/sql%20server.do'), ('Analytics', '/jobs/uk/analytics.do'), ('Roadmaps', '/jobs/uk/roadmaps.do'), ('Customer Service', '/jobs/uk/customer%20service.do'), ('Linux', '/jobs/uk/linux.do'), ('Cybersecurity', '/jobs/uk/cyber%20security.do'), ('SC Cleared', '/jobs/uk/sc%20cleared.do'), ('Business Intelligence', '/jobs/uk/business%20intelligence.do'), ('Power Platform', '/jobs/uk/power%20platform.do'), ('Computer Science', '/jobs/uk/computer%20science.do'), ('ITIL', '/jobs/uk/itil.do'), ('React', '/jobs/uk/react.do'), ('Continuous Improvement', '/jobs/uk/continuous%20improvement.do'), ('Actionable Insight', '/jobs/uk/actionable%20insight.do'), ('Retail', '/jobs/uk/retail.do'), ('Full Stack Development', '/jobs/uk/full%20stack%20development.do'), ('Stakeholder Management', '/jobs/uk/stakeholder%20management.do'), ('Microservices', '/jobs/uk/microservices.do'), ('Kubernetes', '/jobs/uk/kubernetes.do')]\n"
     ]
    }
   ],
   "source": [
    "skill_pages = [(tag.a.get_text(), tag.a['href']) for tag in search_soup.find_all(attrs={'class':'c2'})]\n",
    "print(skill_pages)"
   ]
  },
  {
   "cell_type": "code",
   "execution_count": 238,
   "metadata": {},
   "outputs": [],
   "source": [
    "skills = [skill for skill, _ in skill_pages]\n",
    "data = []\n",
    "for skill_1 in skills:\n",
    "    for skill_2 in skills:\n",
    "        data.append([skill_1, skill_2, 0])\n",
    "df_association = pd.DataFrame(columns=[\"Primary Skill\", \"Secondary Skill\", \"Percentage\"], data=data)"
   ]
  },
  {
   "cell_type": "markdown",
   "metadata": {},
   "source": [
    "Create df containing the following features for a skill:\n",
    "- Name of skill\n",
    "- Rank change\n",
    "- % of all permanent jobs\n",
    "- Category\n",
    "- % of category\n",
    "- Median annual salary\n",
    "- Median annual salary (excl London)\n"
   ]
  },
  {
   "cell_type": "code",
   "execution_count": 219,
   "metadata": {},
   "outputs": [],
   "source": [
    "def get_job_stats(skill, soup):\n",
    "    info = [tag.get_text() for tag in soup.find('table').find_all('td')]\n",
    "    return [skill, info[1], info[5], info[13], info[16].split(\"As % of the \")[1][:-9], info[17], info[33], info[49]]"
   ]
  },
  {
   "cell_type": "code",
   "execution_count": 254,
   "metadata": {},
   "outputs": [
    {
     "name": "stdout",
     "output_type": "stream",
     "text": [
      "['Social Skills', '1', '+1', '25.30%', 'General', '41.10%', '£50,000', '£43,500']\n",
      "['Agile', '2', '-1', '21.21%', 'Processes & Methodologies', '23.76%', '£65,000', '£59,526']\n",
      "['Finance', '3', '0', '20.67%', 'General', '33.57%', '£65,000', '£55,000']\n",
      "['Azure', '4', '0', '19.68%', 'Cloud Services', '50.21%', '£60,000', '£53,426']\n",
      "['Microsoft', '5', '0', '18.09%', 'Vendors', '46.70%', '£49,000', '£45,000']\n",
      "['Developer', '6', '+3', '15.76%', 'Job Titles', '16.54%', '£60,000', '£52,500']\n"
     ]
    },
    {
     "ename": "AttributeError",
     "evalue": "'NoneType' object has no attribute 'find_all'",
     "output_type": "error",
     "traceback": [
      "\u001b[0;31m---------------------------------------------------------------------------\u001b[0m",
      "\u001b[0;31mAttributeError\u001b[0m                            Traceback (most recent call last)",
      "\u001b[0;32m<ipython-input-254-2f4bf2eff11e>\u001b[0m in \u001b[0;36m<module>\u001b[0;34m\u001b[0m\n\u001b[1;32m      7\u001b[0m     \u001b[0mdata\u001b[0m\u001b[0;34m.\u001b[0m\u001b[0mappend\u001b[0m\u001b[0;34m(\u001b[0m\u001b[0mfeatures\u001b[0m\u001b[0;34m)\u001b[0m\u001b[0;34m\u001b[0m\u001b[0;34m\u001b[0m\u001b[0m\n\u001b[1;32m      8\u001b[0m     \u001b[0;31m# skill association\u001b[0m\u001b[0;34m\u001b[0m\u001b[0;34m\u001b[0m\u001b[0;34m\u001b[0m\u001b[0m\n\u001b[0;32m----> 9\u001b[0;31m     \u001b[0mdf_skills\u001b[0m \u001b[0;34m=\u001b[0m \u001b[0mget_skill_stats_df\u001b[0m\u001b[0;34m(\u001b[0m\u001b[0mskill\u001b[0m\u001b[0;34m,\u001b[0m \u001b[0msoup\u001b[0m\u001b[0;34m)\u001b[0m\u001b[0;34m\u001b[0m\u001b[0;34m\u001b[0m\u001b[0m\n\u001b[0m\u001b[1;32m     10\u001b[0m     \u001b[0mdf_association\u001b[0m\u001b[0;34m.\u001b[0m\u001b[0mupdate\u001b[0m\u001b[0;34m(\u001b[0m\u001b[0mdf_skills\u001b[0m\u001b[0;34m)\u001b[0m\u001b[0;34m\u001b[0m\u001b[0;34m\u001b[0m\u001b[0m\n\u001b[1;32m     11\u001b[0m \u001b[0mdf\u001b[0m \u001b[0;34m=\u001b[0m \u001b[0mpd\u001b[0m\u001b[0;34m.\u001b[0m\u001b[0mDataFrame\u001b[0m\u001b[0;34m(\u001b[0m\u001b[0mcolumns\u001b[0m\u001b[0;34m=\u001b[0m\u001b[0mcolumns\u001b[0m\u001b[0;34m,\u001b[0m \u001b[0mdata\u001b[0m\u001b[0;34m=\u001b[0m\u001b[0mdata\u001b[0m\u001b[0;34m)\u001b[0m\u001b[0;34m\u001b[0m\u001b[0;34m\u001b[0m\u001b[0m\n",
      "\u001b[0;32m<ipython-input-225-9dacaa244736>\u001b[0m in \u001b[0;36mget_skill_stats_df\u001b[0;34m(skill, soup)\u001b[0m\n\u001b[1;32m      1\u001b[0m \u001b[0;32mdef\u001b[0m \u001b[0mget_skill_stats_df\u001b[0m\u001b[0;34m(\u001b[0m\u001b[0mskill\u001b[0m\u001b[0;34m,\u001b[0m \u001b[0msoup\u001b[0m\u001b[0;34m)\u001b[0m\u001b[0;34m:\u001b[0m\u001b[0;34m\u001b[0m\u001b[0;34m\u001b[0m\u001b[0m\n\u001b[0;32m----> 2\u001b[0;31m     \u001b[0mrelated_skill_texts\u001b[0m \u001b[0;34m=\u001b[0m \u001b[0;34m[\u001b[0m\u001b[0mtext\u001b[0m\u001b[0;34m.\u001b[0m\u001b[0msplit\u001b[0m\u001b[0;34m(\u001b[0m\u001b[0;34m\"%\"\u001b[0m\u001b[0;34m)\u001b[0m \u001b[0;32mfor\u001b[0m \u001b[0mtable\u001b[0m \u001b[0;32min\u001b[0m \u001b[0mget_info_from_section\u001b[0m\u001b[0;34m(\u001b[0m\u001b[0msoup\u001b[0m\u001b[0;34m.\u001b[0m\u001b[0mfind\u001b[0m\u001b[0;34m(\u001b[0m\u001b[0mattrs\u001b[0m\u001b[0;34m=\u001b[0m\u001b[0;34m{\u001b[0m\u001b[0;34m'id'\u001b[0m\u001b[0;34m:\u001b[0m\u001b[0;34m'related_skills'\u001b[0m\u001b[0;34m}\u001b[0m\u001b[0;34m)\u001b[0m\u001b[0;34m)\u001b[0m \u001b[0;32mfor\u001b[0m \u001b[0mtext\u001b[0m \u001b[0;32min\u001b[0m \u001b[0mtable\u001b[0m\u001b[0;34m]\u001b[0m\u001b[0;34m\u001b[0m\u001b[0;34m\u001b[0m\u001b[0m\n\u001b[0m\u001b[1;32m      3\u001b[0m \u001b[0;34m\u001b[0m\u001b[0m\n\u001b[1;32m      4\u001b[0m     dict = {'Primary Skill' : skill,\n\u001b[1;32m      5\u001b[0m         \u001b[0;34m'Secondary Skill'\u001b[0m \u001b[0;34m:\u001b[0m \u001b[0;34m[\u001b[0m\u001b[0mskill_text\u001b[0m\u001b[0;34m[\u001b[0m\u001b[0;36m1\u001b[0m\u001b[0;34m]\u001b[0m\u001b[0;34m[\u001b[0m\u001b[0;36m1\u001b[0m\u001b[0;34m:\u001b[0m\u001b[0;34m]\u001b[0m\u001b[0;34m.\u001b[0m\u001b[0mstrip\u001b[0m\u001b[0;34m(\u001b[0m\u001b[0;34m)\u001b[0m \u001b[0;32mfor\u001b[0m \u001b[0mskill_text\u001b[0m \u001b[0;32min\u001b[0m \u001b[0mrelated_skill_texts\u001b[0m\u001b[0;34m]\u001b[0m\u001b[0;34m,\u001b[0m\u001b[0;34m\u001b[0m\u001b[0;34m\u001b[0m\u001b[0m\n",
      "\u001b[0;32m<ipython-input-144-8b0573070165>\u001b[0m in \u001b[0;36mget_info_from_section\u001b[0;34m(section)\u001b[0m\n\u001b[1;32m      1\u001b[0m \u001b[0;32mdef\u001b[0m \u001b[0mget_info_from_section\u001b[0m\u001b[0;34m(\u001b[0m\u001b[0msection\u001b[0m\u001b[0;34m)\u001b[0m\u001b[0;34m:\u001b[0m\u001b[0;34m\u001b[0m\u001b[0;34m\u001b[0m\u001b[0m\n\u001b[0;32m----> 2\u001b[0;31m     \u001b[0;32mreturn\u001b[0m \u001b[0;34m[\u001b[0m\u001b[0mget_info_from_row\u001b[0m\u001b[0;34m(\u001b[0m\u001b[0mrow\u001b[0m\u001b[0;34m)\u001b[0m \u001b[0;32mfor\u001b[0m \u001b[0mrow\u001b[0m \u001b[0;32min\u001b[0m \u001b[0msection\u001b[0m\u001b[0;34m.\u001b[0m\u001b[0mfind_all\u001b[0m\u001b[0;34m(\u001b[0m\u001b[0;34m'td'\u001b[0m\u001b[0;34m)\u001b[0m \u001b[0;32mif\u001b[0m \u001b[0mlen\u001b[0m\u001b[0;34m(\u001b[0m\u001b[0mget_info_from_row\u001b[0m\u001b[0;34m(\u001b[0m\u001b[0mrow\u001b[0m\u001b[0;34m)\u001b[0m\u001b[0;34m)\u001b[0m \u001b[0;34m!=\u001b[0m \u001b[0;36m0\u001b[0m\u001b[0;34m]\u001b[0m\u001b[0;34m[\u001b[0m\u001b[0;34m:\u001b[0m\u001b[0;36m14\u001b[0m\u001b[0;34m]\u001b[0m\u001b[0;34m\u001b[0m\u001b[0;34m\u001b[0m\u001b[0m\n\u001b[0m",
      "\u001b[0;31mAttributeError\u001b[0m: 'NoneType' object has no attribute 'find_all'"
     ]
    }
   ],
   "source": [
    "columns = [\"Skill\", \"Rank\", \"Rank Change\", \"% Jobs\", \"Category\", \"% Category\", \"Median Salary\", \"Median Salary (Excluding London)\"]\n",
    "data = []\n",
    "for skill, page in skill_pages:\n",
    "    soup = BeautifulSoup(requests.get(\"https://www.itjobswatch.co.uk/\" + page).text)\n",
    "    features = get_job_stats(skill, soup)\n",
    "    print(features)\n",
    "    data.append(features)\n",
    "    # skill association\n",
    "    df_skills = get_skill_stats_df(skill, soup)\n",
    "    df_association.update(df_skills)\n",
    "df = pd.DataFrame(columns=columns, data=data)\n",
    "print(df_association)"
   ]
  },
  {
   "cell_type": "code",
   "execution_count": 150,
   "metadata": {},
   "outputs": [],
   "source": [
    "df_genr = get_category_stats_df(soup, 7, \"General\")\n",
    "df_jobs = get_category_stats_df(soup, 8, \"Job\")\n",
    "df_libs = get_category_stats_df(soup, 9, \"Library\")\n",
    "df_lang = get_category_stats_df(soup, 13, \"Language\")\n",
    "\n",
    "df = pd.concat([df_genr, df_jobs, df_libs, df_lang])"
   ]
  }
 ],
 "metadata": {
  "kernelspec": {
   "display_name": "sklearn-env",
   "language": "python",
   "name": "python3"
  },
  "language_info": {
   "codemirror_mode": {
    "name": "ipython",
    "version": 3
   },
   "file_extension": ".py",
   "mimetype": "text/x-python",
   "name": "python",
   "nbconvert_exporter": "python",
   "pygments_lexer": "ipython3",
   "version": "3.8.8"
  }
 },
 "nbformat": 4,
 "nbformat_minor": 2
}
