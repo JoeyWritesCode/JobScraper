{
 "cells": [
  {
   "cell_type": "markdown",
   "metadata": {},
   "source": [
    "Scrape the Python ITJobsWatch page. Showcase:\n",
    "1. Data Ingestion\n",
    "2. Data Wrangling\n",
    "3. Data Analysis\n",
    "4. Data Visualisation"
   ]
  },
  {
   "cell_type": "code",
   "execution_count": 114,
   "metadata": {},
   "outputs": [],
   "source": [
    "from bs4 import BeautifulSoup\n",
    "import requests\n",
    "import pandas as pd\n",
    "\n",
    "x = requests.get('https://www.itjobswatch.co.uk/jobs/uk/python.do')\n",
    "soup = BeautifulSoup(x.text)"
   ]
  },
  {
   "cell_type": "markdown",
   "metadata": {},
   "source": [
    "Parse a single table into pandas"
   ]
  },
  {
   "cell_type": "code",
   "execution_count": 115,
   "metadata": {},
   "outputs": [],
   "source": [
    "def get_info_from_row(row):\n",
    "    return [tag.get_text() for tag in row.find_all('tr') if len(tag.get_text()) < 50]"
   ]
  },
  {
   "cell_type": "code",
   "execution_count": 116,
   "metadata": {},
   "outputs": [],
   "source": [
    "def get_info_from_section(section):\n",
    "    return [get_info_from_row(row) for row in section.find_all('td') if len(get_info_from_row(row)) != 0][:14]"
   ]
  },
  {
   "cell_type": "code",
   "execution_count": 117,
   "metadata": {},
   "outputs": [],
   "source": [
    "def get_job_stats_df(soup):\n",
    "    info = get_info_from_section(soup.find_all('section')[0])\n",
    "\n",
    "    dict = {'2024' : [row[1] for row in info],\n",
    "            '2023' : [row[2] for row in info],\n",
    "            '2022' : [row[3] for row in info]}\n",
    "\n",
    "    return pd.DataFrame(dict, index=[row[0] for row in info])"
   ]
  },
  {
   "cell_type": "code",
   "execution_count": 132,
   "metadata": {},
   "outputs": [],
   "source": [
    "def get_skill_stats_df(soup):\n",
    "    related_skill_texts = [text.split(\"%\") for table in get_info_from_section(soup.find(attrs={'id':'related_skills'})) for text in table]\n",
    "\n",
    "    dict = {'Percentage' : [skill_text[0].split(\"(\")[1] for skill_text in related_skill_texts],\n",
    "            'Skill' : [skill_text[1][1:].strip() for skill_text in related_skill_texts]}\n",
    "\n",
    "    return pd.DataFrame(dict)"
   ]
  },
  {
   "cell_type": "code",
   "execution_count": 133,
   "metadata": {},
   "outputs": [
    {
     "name": "stdout",
     "output_type": "stream",
     "text": [
      "   Percentage                    Skill\n",
      "0       38.57                      AWS\n",
      "1       33.40                      SQL\n",
      "2       32.02                    Agile\n",
      "3       30.93     Software Engineering\n",
      "4       28.88                    Azure\n",
      "5       28.06                  Finance\n",
      "6       27.35                     Java\n",
      "7       25.72                   DevOps\n",
      "8       22.29          Problem-Solving\n",
      "9       22.14                    CI/CD\n",
      "10      20.62                   Degree\n",
      "11      20.26            Social Skills\n",
      "12      20.04                    Linux\n",
      "13      19.24               JavaScript\n",
      "14      17.03               Kubernetes\n",
      "15      16.65         Machine Learning\n",
      "16      16.35                   Docker\n",
      "17      15.34                Analytics\n",
      "18      14.98                      GCP\n",
      "19      14.70         Security Cleared\n",
      "20      14.53                     Bash\n",
      "21      13.19                       C#\n",
      "22      13.16  Artificial Intelligence\n",
      "23      13.00         Computer Science\n",
      "24      12.97                Terraform\n",
      "25      12.62             Data Science\n",
      "26      12.43                    React\n",
      "27      11.98                      Git\n",
      "28      10.94  Inclusion and Diversity\n",
      "29      10.36        Analytical Skills\n"
     ]
    }
   ],
   "source": [
    "print(get_skill_stats_df(soup))"
   ]
  },
  {
   "cell_type": "code",
   "execution_count": 121,
   "metadata": {},
   "outputs": [],
   "source": [
    "def get_category_stats_df(soup, i, name):\n",
    "    info = get_info_from_section(soup.find_all('table')[6].find_all('table')[i])\n",
    "    \n",
    "    dict =  {\n",
    "            'Category' : name,\n",
    "            'Ranking' : [row[0] for row in info],\n",
    "            'Percentage' : [row[1] for row in info],\n",
    "            'Skill' : [row[2] for row in info]\n",
    "            }\n",
    "\n",
    "    return pd.DataFrame(dict)"
   ]
  },
  {
   "cell_type": "code",
   "execution_count": 122,
   "metadata": {},
   "outputs": [],
   "source": [
    "df_genr = get_category_stats_df(soup, 7, \"General\")\n",
    "df_jobs = get_category_stats_df(soup, 8, \"Job\")\n",
    "df_libs = get_category_stats_df(soup, 9, \"Library\")\n",
    "df_lang = get_category_stats_df(soup, 13, \"Language\")\n",
    "\n",
    "df = pd.concat([df_genr, df_jobs, df_libs, df_lang])"
   ]
  },
  {
   "cell_type": "markdown",
   "metadata": {},
   "source": [
    "Create df containing the following features for a skill:\n",
    "- Name of skill\n",
    "- Rank change\n",
    "- % of all permanent jobs\n",
    "- Category\n",
    "- % of category\n",
    "- Median annual salary\n",
    "- Median annual salary (excl London)\n"
   ]
  },
  {
   "cell_type": "markdown",
   "metadata": {},
   "source": [
    "Scrape results page to get Skill pages in descending order\n",
    "- Build df of Skill features\n",
    "- Build association table"
   ]
  }
 ],
 "metadata": {
  "kernelspec": {
   "display_name": "sklearn-env",
   "language": "python",
   "name": "python3"
  },
  "language_info": {
   "codemirror_mode": {
    "name": "ipython",
    "version": 3
   },
   "file_extension": ".py",
   "mimetype": "text/x-python",
   "name": "python",
   "nbconvert_exporter": "python",
   "pygments_lexer": "ipython3",
   "version": "3.8.8"
  }
 },
 "nbformat": 4,
 "nbformat_minor": 2
}
